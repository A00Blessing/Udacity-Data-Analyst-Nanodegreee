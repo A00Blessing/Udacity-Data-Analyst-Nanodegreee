{
 "cells": [
  {
   "cell_type": "markdown",
   "id": "ab8ee9a7",
   "metadata": {},
   "source": [
    "# Introduction\n",
    "**The selected dataset:** No-show appointments- Kaggle\n",
    "\n",
    "**Purpose:** To perform a data analysis on the No-show appointments dataset.\n",
    "\n",
    "**Dataset Description:** This dataset collects information from 100k medical appointments in Brazil and is focused on the question of whether or not patients show up for their appointment. The patients may or may not show up for their scheduled appointments due to some various reasons. I will be  investigating the dataset to see if any of the patients' detials, given as variables, have any effect to whether or not they show up to their appointments.\n",
    "The dataset is made up of 14 variables which I would be giving a brief description of below.\n",
    "\n",
    "**Description of each variable**\n",
    "* 1.**PatientId:** It indicates the patient unique identification.\n",
    "* 2.**AppointmentID:** The identification of each appointment.\n",
    "* 3.**Gender:** It indicates the patient's gender, Male or Female.\n",
    "* 4.**ScheduledDay:** It indicates the date or time the patient set up their appointment.\n",
    "* 5.**AppointmentDay:** It indicates the date or time the patient should show up for their appointment.\n",
    "* 6.**Age:** It indicates the patient's age.+\n",
    "* 7.**Neighborhood:** It indicates the place where the appointments take place.\n",
    "* 8.**Scholarship:** It indicates whether the patient is enrolled in Brasilian welfare program or not.https://www.google.com/url?q=https://en.wikipedia.org/wiki/Bolsa_Fam%25C3%25ADlia&sa=D&ust=1532469042119000 \n",
    "* 9.**Hipertension:** It indicates whether or not the patient is experiencing Hypertension.\n",
    "* 10.**Diabetes:** It indicates whether the patient is experiencing Diabetes or not.\n",
    "* 11.**Alcoholism:** It indicates whether or not the patient is experiencing Alcoholism.\n",
    "* 12.**Handcap:** It indicates whether the patient has special needs or not.\n",
    "* 13.**SMS_received:** It indicates whether the patient has received an Sms or not.\n",
    "* 14.**No-show:** It shows whether the patient came for their appointment or not. ‘No’ is used if the patient showed up to their appointment, and ‘Yes’ is used if they did not show up.\n",
    "I got the descriptions of the variables from the page:https://www.kaggle.com/datasets/joniarroba/noshowappointments \n",
    "\n",
    "# Questions for analysis\n",
    "* 1.What is the ratio of patients who showed up to those who did not?\n",
    "* 2.Does the gender, regardless of age group of patients, affect whether they show up or not?\n",
    "* 3.Does the age-group affect response to appointments?\n",
    "* 4.Does the patient being in the scholarship program affect response to appointments?\n",
    "* 5.Does hypertension and diabetes, when compared with patients mean age, affect response to appointments?\n",
    "* 6.Does alcoholism and handicap, when compared with patients mean age, affect response to appointments?\n",
    "* 7.Does the neighbourhood affect response to appointments?\n",
    "* 8.Does the sms received affect response to appointments?\n",
    "* 9.Does the relationship between sms received and neighbourhood affect response to appointments?\n",
    "* 10.Does the day of the week affect the response to treatment?\n",
    "* 11. Does the waiting duration between the schedule date and appointment date affect response to treatment\n",
    "\n",
    "I will be answering these questions by analysis the dataset."
   ]
  },
  {
   "cell_type": "code",
   "execution_count": 417,
   "id": "fb3f943e",
   "metadata": {},
   "outputs": [],
   "source": [
    "# the import statements for all of the packages that may be needed for this project\n",
    "import numpy as np\n",
    "import pandas as pd\n",
    "import matplotlib.pyplot as plt\n",
    "import seaborn as sns\n",
    "%matplotlib inline"
   ]
  },
  {
   "cell_type": "markdown",
   "id": "49881178",
   "metadata": {},
   "source": [
    "# Data wrangling"
   ]
  },
  {
   "cell_type": "markdown",
   "id": "0f964a40",
   "metadata": {},
   "source": [
    "# General properties"
   ]
  },
  {
   "cell_type": "code",
   "execution_count": 418,
   "id": "7b063571",
   "metadata": {
    "scrolled": true
   },
   "outputs": [
    {
     "data": {
      "text/html": [
       "<div>\n",
       "<style scoped>\n",
       "    .dataframe tbody tr th:only-of-type {\n",
       "        vertical-align: middle;\n",
       "    }\n",
       "\n",
       "    .dataframe tbody tr th {\n",
       "        vertical-align: top;\n",
       "    }\n",
       "\n",
       "    .dataframe thead th {\n",
       "        text-align: right;\n",
       "    }\n",
       "</style>\n",
       "<table border=\"1\" class=\"dataframe\">\n",
       "  <thead>\n",
       "    <tr style=\"text-align: right;\">\n",
       "      <th></th>\n",
       "      <th>PatientId</th>\n",
       "      <th>AppointmentID</th>\n",
       "      <th>Gender</th>\n",
       "      <th>ScheduledDay</th>\n",
       "      <th>AppointmentDay</th>\n",
       "      <th>Age</th>\n",
       "      <th>Neighbourhood</th>\n",
       "      <th>Scholarship</th>\n",
       "      <th>Hipertension</th>\n",
       "      <th>Diabetes</th>\n",
       "      <th>Alcoholism</th>\n",
       "      <th>Handcap</th>\n",
       "      <th>SMS_received</th>\n",
       "      <th>No-show</th>\n",
       "    </tr>\n",
       "  </thead>\n",
       "  <tbody>\n",
       "    <tr>\n",
       "      <th>0</th>\n",
       "      <td>2.987250e+13</td>\n",
       "      <td>5642903</td>\n",
       "      <td>F</td>\n",
       "      <td>2016-04-29T18:38:08Z</td>\n",
       "      <td>2016-04-29T00:00:00Z</td>\n",
       "      <td>62</td>\n",
       "      <td>JARDIM DA PENHA</td>\n",
       "      <td>0</td>\n",
       "      <td>1</td>\n",
       "      <td>0</td>\n",
       "      <td>0</td>\n",
       "      <td>0</td>\n",
       "      <td>0</td>\n",
       "      <td>No</td>\n",
       "    </tr>\n",
       "    <tr>\n",
       "      <th>1</th>\n",
       "      <td>5.589978e+14</td>\n",
       "      <td>5642503</td>\n",
       "      <td>M</td>\n",
       "      <td>2016-04-29T16:08:27Z</td>\n",
       "      <td>2016-04-29T00:00:00Z</td>\n",
       "      <td>56</td>\n",
       "      <td>JARDIM DA PENHA</td>\n",
       "      <td>0</td>\n",
       "      <td>0</td>\n",
       "      <td>0</td>\n",
       "      <td>0</td>\n",
       "      <td>0</td>\n",
       "      <td>0</td>\n",
       "      <td>No</td>\n",
       "    </tr>\n",
       "    <tr>\n",
       "      <th>2</th>\n",
       "      <td>4.262962e+12</td>\n",
       "      <td>5642549</td>\n",
       "      <td>F</td>\n",
       "      <td>2016-04-29T16:19:04Z</td>\n",
       "      <td>2016-04-29T00:00:00Z</td>\n",
       "      <td>62</td>\n",
       "      <td>MATA DA PRAIA</td>\n",
       "      <td>0</td>\n",
       "      <td>0</td>\n",
       "      <td>0</td>\n",
       "      <td>0</td>\n",
       "      <td>0</td>\n",
       "      <td>0</td>\n",
       "      <td>No</td>\n",
       "    </tr>\n",
       "    <tr>\n",
       "      <th>3</th>\n",
       "      <td>8.679512e+11</td>\n",
       "      <td>5642828</td>\n",
       "      <td>F</td>\n",
       "      <td>2016-04-29T17:29:31Z</td>\n",
       "      <td>2016-04-29T00:00:00Z</td>\n",
       "      <td>8</td>\n",
       "      <td>PONTAL DE CAMBURI</td>\n",
       "      <td>0</td>\n",
       "      <td>0</td>\n",
       "      <td>0</td>\n",
       "      <td>0</td>\n",
       "      <td>0</td>\n",
       "      <td>0</td>\n",
       "      <td>No</td>\n",
       "    </tr>\n",
       "    <tr>\n",
       "      <th>4</th>\n",
       "      <td>8.841186e+12</td>\n",
       "      <td>5642494</td>\n",
       "      <td>F</td>\n",
       "      <td>2016-04-29T16:07:23Z</td>\n",
       "      <td>2016-04-29T00:00:00Z</td>\n",
       "      <td>56</td>\n",
       "      <td>JARDIM DA PENHA</td>\n",
       "      <td>0</td>\n",
       "      <td>1</td>\n",
       "      <td>1</td>\n",
       "      <td>0</td>\n",
       "      <td>0</td>\n",
       "      <td>0</td>\n",
       "      <td>No</td>\n",
       "    </tr>\n",
       "  </tbody>\n",
       "</table>\n",
       "</div>"
      ],
      "text/plain": [
       "      PatientId  AppointmentID Gender          ScheduledDay  \\\n",
       "0  2.987250e+13        5642903      F  2016-04-29T18:38:08Z   \n",
       "1  5.589978e+14        5642503      M  2016-04-29T16:08:27Z   \n",
       "2  4.262962e+12        5642549      F  2016-04-29T16:19:04Z   \n",
       "3  8.679512e+11        5642828      F  2016-04-29T17:29:31Z   \n",
       "4  8.841186e+12        5642494      F  2016-04-29T16:07:23Z   \n",
       "\n",
       "         AppointmentDay  Age      Neighbourhood  Scholarship  Hipertension  \\\n",
       "0  2016-04-29T00:00:00Z   62    JARDIM DA PENHA            0             1   \n",
       "1  2016-04-29T00:00:00Z   56    JARDIM DA PENHA            0             0   \n",
       "2  2016-04-29T00:00:00Z   62      MATA DA PRAIA            0             0   \n",
       "3  2016-04-29T00:00:00Z    8  PONTAL DE CAMBURI            0             0   \n",
       "4  2016-04-29T00:00:00Z   56    JARDIM DA PENHA            0             1   \n",
       "\n",
       "   Diabetes  Alcoholism  Handcap  SMS_received No-show  \n",
       "0         0           0        0             0      No  \n",
       "1         0           0        0             0      No  \n",
       "2         0           0        0             0      No  \n",
       "3         0           0        0             0      No  \n",
       "4         1           0        0             0      No  "
      ]
     },
     "execution_count": 418,
     "metadata": {},
     "output_type": "execute_result"
    }
   ],
   "source": [
    "#Import the data from a CSV file \n",
    "df = pd.read_csv('noshowappointments-kagglev2-may-2016.csv')\n",
    "df.head()"
   ]
  },
  {
   "cell_type": "markdown",
   "id": "8adaa5a8",
   "metadata": {},
   "source": [
    "The dataset has been properly loaded and we can see that the first five rows (0-4) of the data set are displayed."
   ]
  },
  {
   "cell_type": "code",
   "execution_count": 419,
   "id": "831d9d44",
   "metadata": {},
   "outputs": [
    {
     "data": {
      "text/plain": [
       "PatientId         float64\n",
       "AppointmentID       int64\n",
       "Gender             object\n",
       "ScheduledDay       object\n",
       "AppointmentDay     object\n",
       "Age                 int64\n",
       "Neighbourhood      object\n",
       "Scholarship         int64\n",
       "Hipertension        int64\n",
       "Diabetes            int64\n",
       "Alcoholism          int64\n",
       "Handcap             int64\n",
       "SMS_received        int64\n",
       "No-show            object\n",
       "dtype: object"
      ]
     },
     "execution_count": 419,
     "metadata": {},
     "output_type": "execute_result"
    }
   ],
   "source": [
    "# To determine the datatypes of each column\n",
    "df.dtypes"
   ]
  },
  {
   "cell_type": "markdown",
   "id": "f38d3a8c",
   "metadata": {},
   "source": [
    "The PatientId and AppointmentID columns are supposed to be imported as strings; instead, the columns are displayed as a numeric (integer or float) variable which doesn’t make sense. So, I will need to change them to a string type.\n",
    "Also, ScheduledDay and AppointmentDay are in string format instead of datetime. So, I need to change them from the string format to a DateTime object. "
   ]
  },
  {
   "cell_type": "code",
   "execution_count": 420,
   "id": "735e01ee",
   "metadata": {},
   "outputs": [
    {
     "data": {
      "text/plain": [
       "(110527, 14)"
      ]
     },
     "execution_count": 420,
     "metadata": {},
     "output_type": "execute_result"
    }
   ],
   "source": [
    "#To determine the number of patients (rows) and their characteristics (columns) contained in the dataset\n",
    "df.shape"
   ]
  },
  {
   "cell_type": "markdown",
   "id": "1ade062d",
   "metadata": {},
   "source": [
    "The data is made up of 110527 rows(which are the appointments) and 14 columns.\n"
   ]
  },
  {
   "cell_type": "code",
   "execution_count": 421,
   "id": "8ed134af",
   "metadata": {},
   "outputs": [
    {
     "data": {
      "text/plain": [
       "62299"
      ]
     },
     "execution_count": 421,
     "metadata": {},
     "output_type": "execute_result"
    }
   ],
   "source": [
    "# Checking each of the columns individually for the number of unique values \n",
    "# Check for the number of unique patient ids in the columns\n",
    "df['PatientId'].nunique()"
   ]
  },
  {
   "cell_type": "markdown",
   "id": "43ca4f11",
   "metadata": {},
   "source": [
    "Only 62299 out of 110527 appointments are unique."
   ]
  },
  {
   "cell_type": "code",
   "execution_count": 422,
   "id": "b78cd99e",
   "metadata": {},
   "outputs": [
    {
     "data": {
      "text/plain": [
       "2"
      ]
     },
     "execution_count": 422,
     "metadata": {},
     "output_type": "execute_result"
    }
   ],
   "source": [
    "\n",
    "# Check the values in the Gender column\n",
    "\n",
    "df['Gender'].nunique()"
   ]
  },
  {
   "cell_type": "markdown",
   "id": "cd0d32c0",
   "metadata": {},
   "source": [
    "It shows that there are two types of gender: male and female."
   ]
  },
  {
   "cell_type": "code",
   "execution_count": 423,
   "id": "b006c5d4",
   "metadata": {},
   "outputs": [
    {
     "data": {
      "text/plain": [
       "103549"
      ]
     },
     "execution_count": 423,
     "metadata": {},
     "output_type": "execute_result"
    }
   ],
   "source": [
    "# Check the values in ScheduledDay\n",
    "df['ScheduledDay'].nunique()"
   ]
  },
  {
   "cell_type": "code",
   "execution_count": 424,
   "id": "840d52ef",
   "metadata": {},
   "outputs": [
    {
     "data": {
      "text/plain": [
       "27"
      ]
     },
     "execution_count": 424,
     "metadata": {},
     "output_type": "execute_result"
    }
   ],
   "source": [
    "# Check the values in appointed day\n",
    "df['AppointmentDay'].nunique()"
   ]
  },
  {
   "cell_type": "code",
   "execution_count": 425,
   "id": "a6334e8a",
   "metadata": {},
   "outputs": [
    {
     "data": {
      "text/plain": [
       "81"
      ]
     },
     "execution_count": 425,
     "metadata": {},
     "output_type": "execute_result"
    }
   ],
   "source": [
    "# Check the values in neighbourhood\n",
    "df['Neighbourhood'].nunique()"
   ]
  },
  {
   "cell_type": "code",
   "execution_count": 426,
   "id": "6403de8e",
   "metadata": {},
   "outputs": [
    {
     "data": {
      "text/plain": [
       "81"
      ]
     },
     "execution_count": 426,
     "metadata": {},
     "output_type": "execute_result"
    }
   ],
   "source": [
    "# To check for the number of unique values in the Neighbourhood column\n",
    "df['Neighbourhood'].nunique()"
   ]
  },
  {
   "cell_type": "code",
   "execution_count": 427,
   "id": "f62c6f7f",
   "metadata": {},
   "outputs": [
    {
     "data": {
      "text/plain": [
       "104"
      ]
     },
     "execution_count": 427,
     "metadata": {},
     "output_type": "execute_result"
    }
   ],
   "source": [
    "# Check the values in the Age column\n",
    "df['Age'].nunique()"
   ]
  },
  {
   "cell_type": "code",
   "execution_count": 428,
   "id": "d3b4c6fd",
   "metadata": {},
   "outputs": [
    {
     "data": {
      "text/plain": [
       "2"
      ]
     },
     "execution_count": 428,
     "metadata": {},
     "output_type": "execute_result"
    }
   ],
   "source": [
    "# Check the values in the Scholarship column\n",
    "\n",
    "df['Scholarship'].nunique()"
   ]
  },
  {
   "cell_type": "code",
   "execution_count": 429,
   "id": "966b3b4b",
   "metadata": {},
   "outputs": [
    {
     "data": {
      "text/plain": [
       "2"
      ]
     },
     "execution_count": 429,
     "metadata": {},
     "output_type": "execute_result"
    }
   ],
   "source": [
    "# Check the values in the Hipertension column\n",
    "\n",
    "df['Hipertension'].nunique()"
   ]
  },
  {
   "cell_type": "code",
   "execution_count": 430,
   "id": "340c5147",
   "metadata": {},
   "outputs": [
    {
     "data": {
      "text/plain": [
       "2"
      ]
     },
     "execution_count": 430,
     "metadata": {},
     "output_type": "execute_result"
    }
   ],
   "source": [
    "# Check the values in the Alcoholism column\n",
    "\n",
    "df['Alcoholism'].nunique()"
   ]
  },
  {
   "cell_type": "code",
   "execution_count": 431,
   "id": "44e19386",
   "metadata": {},
   "outputs": [
    {
     "data": {
      "text/plain": [
       "2"
      ]
     },
     "execution_count": 431,
     "metadata": {},
     "output_type": "execute_result"
    }
   ],
   "source": [
    "# Check the values in the Diabetes column\n",
    "\n",
    "df['Diabetes'].nunique()"
   ]
  },
  {
   "cell_type": "code",
   "execution_count": 432,
   "id": "f22b5159",
   "metadata": {},
   "outputs": [
    {
     "data": {
      "text/plain": [
       "2"
      ]
     },
     "execution_count": 432,
     "metadata": {},
     "output_type": "execute_result"
    }
   ],
   "source": [
    "\n",
    "# Check the values in the SMS_received column\n",
    "\n",
    "df['SMS_received'].nunique()"
   ]
  },
  {
   "cell_type": "code",
   "execution_count": 433,
   "id": "746b1329",
   "metadata": {},
   "outputs": [
    {
     "data": {
      "text/plain": [
       "5"
      ]
     },
     "execution_count": 433,
     "metadata": {},
     "output_type": "execute_result"
    }
   ],
   "source": [
    "# Check the values in the Handcap column\n",
    "\n",
    "df['Handcap'].nunique()"
   ]
  },
  {
   "cell_type": "code",
   "execution_count": 434,
   "id": "bd80c3dc",
   "metadata": {},
   "outputs": [
    {
     "data": {
      "text/plain": [
       "2"
      ]
     },
     "execution_count": 434,
     "metadata": {},
     "output_type": "execute_result"
    }
   ],
   "source": [
    "# Check the values in the No-show column\n",
    "df['No-show'].nunique()"
   ]
  },
  {
   "cell_type": "markdown",
   "id": "5d2dcb29",
   "metadata": {},
   "source": [
    "**Summary:** In the section above, I explored each column individually to sort the unique elements in each of the columns and confirm the existence of any data errors, so that they can be fix them in the next step."
   ]
  },
  {
   "cell_type": "code",
   "execution_count": 435,
   "id": "e2e38dd6",
   "metadata": {},
   "outputs": [
    {
     "name": "stdout",
     "output_type": "stream",
     "text": [
      "<class 'pandas.core.frame.DataFrame'>\n",
      "RangeIndex: 110527 entries, 0 to 110526\n",
      "Data columns (total 14 columns):\n",
      " #   Column          Non-Null Count   Dtype  \n",
      "---  ------          --------------   -----  \n",
      " 0   PatientId       110527 non-null  float64\n",
      " 1   AppointmentID   110527 non-null  int64  \n",
      " 2   Gender          110527 non-null  object \n",
      " 3   ScheduledDay    110527 non-null  object \n",
      " 4   AppointmentDay  110527 non-null  object \n",
      " 5   Age             110527 non-null  int64  \n",
      " 6   Neighbourhood   110527 non-null  object \n",
      " 7   Scholarship     110527 non-null  int64  \n",
      " 8   Hipertension    110527 non-null  int64  \n",
      " 9   Diabetes        110527 non-null  int64  \n",
      " 10  Alcoholism      110527 non-null  int64  \n",
      " 11  Handcap         110527 non-null  int64  \n",
      " 12  SMS_received    110527 non-null  int64  \n",
      " 13  No-show         110527 non-null  object \n",
      "dtypes: float64(1), int64(8), object(5)\n",
      "memory usage: 11.8+ MB\n"
     ]
    }
   ],
   "source": [
    "#  Providing a concise summary of a DataFrame.\n",
    "df.info()"
   ]
  },
  {
   "cell_type": "markdown",
   "id": "97d73129",
   "metadata": {},
   "source": [
    "The summary above shows that the data set does not have any missing values. But in order to be sure, I need to check for null values in the dataset."
   ]
  },
  {
   "cell_type": "code",
   "execution_count": 436,
   "id": "6a3670ee",
   "metadata": {},
   "outputs": [
    {
     "data": {
      "text/plain": [
       "PatientId         0\n",
       "AppointmentID     0\n",
       "Gender            0\n",
       "ScheduledDay      0\n",
       "AppointmentDay    0\n",
       "Age               0\n",
       "Neighbourhood     0\n",
       "Scholarship       0\n",
       "Hipertension      0\n",
       "Diabetes          0\n",
       "Alcoholism        0\n",
       "Handcap           0\n",
       "SMS_received      0\n",
       "No-show           0\n",
       "dtype: int64"
      ]
     },
     "execution_count": 436,
     "metadata": {},
     "output_type": "execute_result"
    }
   ],
   "source": [
    "# Check for any missing values\n",
    "\n",
    "df.isnull().sum()"
   ]
  },
  {
   "cell_type": "markdown",
   "id": "b2522649",
   "metadata": {},
   "source": [
    "There are no missing values in the dataset."
   ]
  },
  {
   "cell_type": "code",
   "execution_count": 437,
   "id": "b6698248",
   "metadata": {},
   "outputs": [
    {
     "data": {
      "text/html": [
       "<div>\n",
       "<style scoped>\n",
       "    .dataframe tbody tr th:only-of-type {\n",
       "        vertical-align: middle;\n",
       "    }\n",
       "\n",
       "    .dataframe tbody tr th {\n",
       "        vertical-align: top;\n",
       "    }\n",
       "\n",
       "    .dataframe thead th {\n",
       "        text-align: right;\n",
       "    }\n",
       "</style>\n",
       "<table border=\"1\" class=\"dataframe\">\n",
       "  <thead>\n",
       "    <tr style=\"text-align: right;\">\n",
       "      <th></th>\n",
       "      <th>PatientId</th>\n",
       "      <th>AppointmentID</th>\n",
       "      <th>Age</th>\n",
       "      <th>Scholarship</th>\n",
       "      <th>Hipertension</th>\n",
       "      <th>Diabetes</th>\n",
       "      <th>Alcoholism</th>\n",
       "      <th>Handcap</th>\n",
       "      <th>SMS_received</th>\n",
       "    </tr>\n",
       "  </thead>\n",
       "  <tbody>\n",
       "    <tr>\n",
       "      <th>count</th>\n",
       "      <td>1.105270e+05</td>\n",
       "      <td>1.105270e+05</td>\n",
       "      <td>110527.000000</td>\n",
       "      <td>110527.000000</td>\n",
       "      <td>110527.000000</td>\n",
       "      <td>110527.000000</td>\n",
       "      <td>110527.000000</td>\n",
       "      <td>110527.000000</td>\n",
       "      <td>110527.000000</td>\n",
       "    </tr>\n",
       "    <tr>\n",
       "      <th>mean</th>\n",
       "      <td>1.474963e+14</td>\n",
       "      <td>5.675305e+06</td>\n",
       "      <td>37.088874</td>\n",
       "      <td>0.098266</td>\n",
       "      <td>0.197246</td>\n",
       "      <td>0.071865</td>\n",
       "      <td>0.030400</td>\n",
       "      <td>0.022248</td>\n",
       "      <td>0.321026</td>\n",
       "    </tr>\n",
       "    <tr>\n",
       "      <th>std</th>\n",
       "      <td>2.560949e+14</td>\n",
       "      <td>7.129575e+04</td>\n",
       "      <td>23.110205</td>\n",
       "      <td>0.297675</td>\n",
       "      <td>0.397921</td>\n",
       "      <td>0.258265</td>\n",
       "      <td>0.171686</td>\n",
       "      <td>0.161543</td>\n",
       "      <td>0.466873</td>\n",
       "    </tr>\n",
       "    <tr>\n",
       "      <th>min</th>\n",
       "      <td>3.921784e+04</td>\n",
       "      <td>5.030230e+06</td>\n",
       "      <td>-1.000000</td>\n",
       "      <td>0.000000</td>\n",
       "      <td>0.000000</td>\n",
       "      <td>0.000000</td>\n",
       "      <td>0.000000</td>\n",
       "      <td>0.000000</td>\n",
       "      <td>0.000000</td>\n",
       "    </tr>\n",
       "    <tr>\n",
       "      <th>25%</th>\n",
       "      <td>4.172614e+12</td>\n",
       "      <td>5.640286e+06</td>\n",
       "      <td>18.000000</td>\n",
       "      <td>0.000000</td>\n",
       "      <td>0.000000</td>\n",
       "      <td>0.000000</td>\n",
       "      <td>0.000000</td>\n",
       "      <td>0.000000</td>\n",
       "      <td>0.000000</td>\n",
       "    </tr>\n",
       "    <tr>\n",
       "      <th>50%</th>\n",
       "      <td>3.173184e+13</td>\n",
       "      <td>5.680573e+06</td>\n",
       "      <td>37.000000</td>\n",
       "      <td>0.000000</td>\n",
       "      <td>0.000000</td>\n",
       "      <td>0.000000</td>\n",
       "      <td>0.000000</td>\n",
       "      <td>0.000000</td>\n",
       "      <td>0.000000</td>\n",
       "    </tr>\n",
       "    <tr>\n",
       "      <th>75%</th>\n",
       "      <td>9.439172e+13</td>\n",
       "      <td>5.725524e+06</td>\n",
       "      <td>55.000000</td>\n",
       "      <td>0.000000</td>\n",
       "      <td>0.000000</td>\n",
       "      <td>0.000000</td>\n",
       "      <td>0.000000</td>\n",
       "      <td>0.000000</td>\n",
       "      <td>1.000000</td>\n",
       "    </tr>\n",
       "    <tr>\n",
       "      <th>max</th>\n",
       "      <td>9.999816e+14</td>\n",
       "      <td>5.790484e+06</td>\n",
       "      <td>115.000000</td>\n",
       "      <td>1.000000</td>\n",
       "      <td>1.000000</td>\n",
       "      <td>1.000000</td>\n",
       "      <td>1.000000</td>\n",
       "      <td>4.000000</td>\n",
       "      <td>1.000000</td>\n",
       "    </tr>\n",
       "  </tbody>\n",
       "</table>\n",
       "</div>"
      ],
      "text/plain": [
       "          PatientId  AppointmentID            Age    Scholarship  \\\n",
       "count  1.105270e+05   1.105270e+05  110527.000000  110527.000000   \n",
       "mean   1.474963e+14   5.675305e+06      37.088874       0.098266   \n",
       "std    2.560949e+14   7.129575e+04      23.110205       0.297675   \n",
       "min    3.921784e+04   5.030230e+06      -1.000000       0.000000   \n",
       "25%    4.172614e+12   5.640286e+06      18.000000       0.000000   \n",
       "50%    3.173184e+13   5.680573e+06      37.000000       0.000000   \n",
       "75%    9.439172e+13   5.725524e+06      55.000000       0.000000   \n",
       "max    9.999816e+14   5.790484e+06     115.000000       1.000000   \n",
       "\n",
       "        Hipertension       Diabetes     Alcoholism        Handcap  \\\n",
       "count  110527.000000  110527.000000  110527.000000  110527.000000   \n",
       "mean        0.197246       0.071865       0.030400       0.022248   \n",
       "std         0.397921       0.258265       0.171686       0.161543   \n",
       "min         0.000000       0.000000       0.000000       0.000000   \n",
       "25%         0.000000       0.000000       0.000000       0.000000   \n",
       "50%         0.000000       0.000000       0.000000       0.000000   \n",
       "75%         0.000000       0.000000       0.000000       0.000000   \n",
       "max         1.000000       1.000000       1.000000       4.000000   \n",
       "\n",
       "        SMS_received  \n",
       "count  110527.000000  \n",
       "mean        0.321026  \n",
       "std         0.466873  \n",
       "min         0.000000  \n",
       "25%         0.000000  \n",
       "50%         0.000000  \n",
       "75%         1.000000  \n",
       "max         1.000000  "
      ]
     },
     "execution_count": 437,
     "metadata": {},
     "output_type": "execute_result"
    }
   ],
   "source": [
    "# To see the basic  summary of statistics pertaining to the DataFrame columns.\n",
    "df.describe()"
   ]
  },
  {
   "cell_type": "markdown",
   "id": "763629a8",
   "metadata": {},
   "source": [
    "I have obtained a descriptive statistics summary of the given dataframe showing the  mean, count, std deviation, percentiles, and mininimum anf maximum values of all the features.The mean of all ages is 37 years and the maximum age of a patient is 115 years. Looking at the the minumum age value, I notice that it has a negative value of -1 which does not make sense but this will be rectified later on by removing it from that data set. \n",
    "\n"
   ]
  },
  {
   "cell_type": "markdown",
   "id": "73944f06",
   "metadata": {},
   "source": [
    "#  Data cleaning"
   ]
  },
  {
   "cell_type": "markdown",
   "id": "209ab4b4",
   "metadata": {},
   "source": [
    "I will take a 5 step approach to cleaning up the data\n",
    "\n",
    "1. Identifying and removing any duplicate entries\n",
    "2. Renaming the columns to make analysis easier\n",
    "3. Removing the negative values from our data set\n",
    "4. Deal with incorrect data type by converting it \n",
    "5. Creating new columns"
   ]
  },
  {
   "cell_type": "markdown",
   "id": "9683a2dc",
   "metadata": {},
   "source": [
    "\n",
    "# 1. Identifying and removing any duplicate entries"
   ]
  },
  {
   "cell_type": "code",
   "execution_count": 438,
   "id": "fab69860",
   "metadata": {},
   "outputs": [
    {
     "data": {
      "text/plain": [
       "0"
      ]
     },
     "execution_count": 438,
     "metadata": {},
     "output_type": "execute_result"
    }
   ],
   "source": [
    "# Check for any duplicate rows\n",
    "df.duplicated().sum()"
   ]
  },
  {
   "cell_type": "markdown",
   "id": "4008134d",
   "metadata": {},
   "source": [
    "This shows that there are no duplicated rows in the dataset."
   ]
  },
  {
   "cell_type": "markdown",
   "id": "b52d4310",
   "metadata": {},
   "source": [
    "# 2. Renaming the columns to make analysis easier"
   ]
  },
  {
   "cell_type": "code",
   "execution_count": 439,
   "id": "6baffeb0",
   "metadata": {},
   "outputs": [],
   "source": [
    "#We are renaming the columns \"No-show\", \"Handcap\" and \"Hipertension\"\n",
    "df.rename(columns={'Hipertension':'Hypertension', 'Handcap':'Handicap', 'No-show' : 'No_show'}, inplace = True)"
   ]
  },
  {
   "cell_type": "code",
   "execution_count": 440,
   "id": "0e84d16d",
   "metadata": {},
   "outputs": [
    {
     "data": {
      "text/html": [
       "<div>\n",
       "<style scoped>\n",
       "    .dataframe tbody tr th:only-of-type {\n",
       "        vertical-align: middle;\n",
       "    }\n",
       "\n",
       "    .dataframe tbody tr th {\n",
       "        vertical-align: top;\n",
       "    }\n",
       "\n",
       "    .dataframe thead th {\n",
       "        text-align: right;\n",
       "    }\n",
       "</style>\n",
       "<table border=\"1\" class=\"dataframe\">\n",
       "  <thead>\n",
       "    <tr style=\"text-align: right;\">\n",
       "      <th></th>\n",
       "      <th>PatientId</th>\n",
       "      <th>AppointmentID</th>\n",
       "      <th>Gender</th>\n",
       "      <th>ScheduledDay</th>\n",
       "      <th>AppointmentDay</th>\n",
       "      <th>Age</th>\n",
       "      <th>Neighbourhood</th>\n",
       "      <th>Scholarship</th>\n",
       "      <th>Hypertension</th>\n",
       "      <th>Diabetes</th>\n",
       "      <th>Alcoholism</th>\n",
       "      <th>Handicap</th>\n",
       "      <th>SMS_received</th>\n",
       "      <th>No_show</th>\n",
       "    </tr>\n",
       "  </thead>\n",
       "  <tbody>\n",
       "    <tr>\n",
       "      <th>0</th>\n",
       "      <td>2.987250e+13</td>\n",
       "      <td>5642903</td>\n",
       "      <td>F</td>\n",
       "      <td>2016-04-29T18:38:08Z</td>\n",
       "      <td>2016-04-29T00:00:00Z</td>\n",
       "      <td>62</td>\n",
       "      <td>JARDIM DA PENHA</td>\n",
       "      <td>0</td>\n",
       "      <td>1</td>\n",
       "      <td>0</td>\n",
       "      <td>0</td>\n",
       "      <td>0</td>\n",
       "      <td>0</td>\n",
       "      <td>No</td>\n",
       "    </tr>\n",
       "    <tr>\n",
       "      <th>1</th>\n",
       "      <td>5.589978e+14</td>\n",
       "      <td>5642503</td>\n",
       "      <td>M</td>\n",
       "      <td>2016-04-29T16:08:27Z</td>\n",
       "      <td>2016-04-29T00:00:00Z</td>\n",
       "      <td>56</td>\n",
       "      <td>JARDIM DA PENHA</td>\n",
       "      <td>0</td>\n",
       "      <td>0</td>\n",
       "      <td>0</td>\n",
       "      <td>0</td>\n",
       "      <td>0</td>\n",
       "      <td>0</td>\n",
       "      <td>No</td>\n",
       "    </tr>\n",
       "    <tr>\n",
       "      <th>2</th>\n",
       "      <td>4.262962e+12</td>\n",
       "      <td>5642549</td>\n",
       "      <td>F</td>\n",
       "      <td>2016-04-29T16:19:04Z</td>\n",
       "      <td>2016-04-29T00:00:00Z</td>\n",
       "      <td>62</td>\n",
       "      <td>MATA DA PRAIA</td>\n",
       "      <td>0</td>\n",
       "      <td>0</td>\n",
       "      <td>0</td>\n",
       "      <td>0</td>\n",
       "      <td>0</td>\n",
       "      <td>0</td>\n",
       "      <td>No</td>\n",
       "    </tr>\n",
       "    <tr>\n",
       "      <th>3</th>\n",
       "      <td>8.679512e+11</td>\n",
       "      <td>5642828</td>\n",
       "      <td>F</td>\n",
       "      <td>2016-04-29T17:29:31Z</td>\n",
       "      <td>2016-04-29T00:00:00Z</td>\n",
       "      <td>8</td>\n",
       "      <td>PONTAL DE CAMBURI</td>\n",
       "      <td>0</td>\n",
       "      <td>0</td>\n",
       "      <td>0</td>\n",
       "      <td>0</td>\n",
       "      <td>0</td>\n",
       "      <td>0</td>\n",
       "      <td>No</td>\n",
       "    </tr>\n",
       "    <tr>\n",
       "      <th>4</th>\n",
       "      <td>8.841186e+12</td>\n",
       "      <td>5642494</td>\n",
       "      <td>F</td>\n",
       "      <td>2016-04-29T16:07:23Z</td>\n",
       "      <td>2016-04-29T00:00:00Z</td>\n",
       "      <td>56</td>\n",
       "      <td>JARDIM DA PENHA</td>\n",
       "      <td>0</td>\n",
       "      <td>1</td>\n",
       "      <td>1</td>\n",
       "      <td>0</td>\n",
       "      <td>0</td>\n",
       "      <td>0</td>\n",
       "      <td>No</td>\n",
       "    </tr>\n",
       "  </tbody>\n",
       "</table>\n",
       "</div>"
      ],
      "text/plain": [
       "      PatientId  AppointmentID Gender          ScheduledDay  \\\n",
       "0  2.987250e+13        5642903      F  2016-04-29T18:38:08Z   \n",
       "1  5.589978e+14        5642503      M  2016-04-29T16:08:27Z   \n",
       "2  4.262962e+12        5642549      F  2016-04-29T16:19:04Z   \n",
       "3  8.679512e+11        5642828      F  2016-04-29T17:29:31Z   \n",
       "4  8.841186e+12        5642494      F  2016-04-29T16:07:23Z   \n",
       "\n",
       "         AppointmentDay  Age      Neighbourhood  Scholarship  Hypertension  \\\n",
       "0  2016-04-29T00:00:00Z   62    JARDIM DA PENHA            0             1   \n",
       "1  2016-04-29T00:00:00Z   56    JARDIM DA PENHA            0             0   \n",
       "2  2016-04-29T00:00:00Z   62      MATA DA PRAIA            0             0   \n",
       "3  2016-04-29T00:00:00Z    8  PONTAL DE CAMBURI            0             0   \n",
       "4  2016-04-29T00:00:00Z   56    JARDIM DA PENHA            0             1   \n",
       "\n",
       "   Diabetes  Alcoholism  Handicap  SMS_received No_show  \n",
       "0         0           0         0             0      No  \n",
       "1         0           0         0             0      No  \n",
       "2         0           0         0             0      No  \n",
       "3         0           0         0             0      No  \n",
       "4         1           0         0             0      No  "
      ]
     },
     "execution_count": 440,
     "metadata": {},
     "output_type": "execute_result"
    }
   ],
   "source": [
    "#To see if the columns have been changed\n",
    "df.head()"
   ]
  },
  {
   "cell_type": "markdown",
   "id": "dd64e24e",
   "metadata": {},
   "source": [
    "# 3. Removing the negative values from our data set\n"
   ]
  },
  {
   "cell_type": "code",
   "execution_count": 441,
   "id": "a367a115",
   "metadata": {},
   "outputs": [
    {
     "data": {
      "text/html": [
       "<div>\n",
       "<style scoped>\n",
       "    .dataframe tbody tr th:only-of-type {\n",
       "        vertical-align: middle;\n",
       "    }\n",
       "\n",
       "    .dataframe tbody tr th {\n",
       "        vertical-align: top;\n",
       "    }\n",
       "\n",
       "    .dataframe thead th {\n",
       "        text-align: right;\n",
       "    }\n",
       "</style>\n",
       "<table border=\"1\" class=\"dataframe\">\n",
       "  <thead>\n",
       "    <tr style=\"text-align: right;\">\n",
       "      <th></th>\n",
       "      <th>PatientId</th>\n",
       "      <th>AppointmentID</th>\n",
       "      <th>Gender</th>\n",
       "      <th>ScheduledDay</th>\n",
       "      <th>AppointmentDay</th>\n",
       "      <th>Age</th>\n",
       "      <th>Neighbourhood</th>\n",
       "      <th>Scholarship</th>\n",
       "      <th>Hypertension</th>\n",
       "      <th>Diabetes</th>\n",
       "      <th>Alcoholism</th>\n",
       "      <th>Handicap</th>\n",
       "      <th>SMS_received</th>\n",
       "      <th>No_show</th>\n",
       "    </tr>\n",
       "  </thead>\n",
       "  <tbody>\n",
       "    <tr>\n",
       "      <th>99832</th>\n",
       "      <td>4.659432e+14</td>\n",
       "      <td>5775010</td>\n",
       "      <td>F</td>\n",
       "      <td>2016-06-06T08:58:13Z</td>\n",
       "      <td>2016-06-06T00:00:00Z</td>\n",
       "      <td>-1</td>\n",
       "      <td>ROMÃO</td>\n",
       "      <td>0</td>\n",
       "      <td>0</td>\n",
       "      <td>0</td>\n",
       "      <td>0</td>\n",
       "      <td>0</td>\n",
       "      <td>0</td>\n",
       "      <td>No</td>\n",
       "    </tr>\n",
       "  </tbody>\n",
       "</table>\n",
       "</div>"
      ],
      "text/plain": [
       "          PatientId  AppointmentID Gender          ScheduledDay  \\\n",
       "99832  4.659432e+14        5775010      F  2016-06-06T08:58:13Z   \n",
       "\n",
       "             AppointmentDay  Age Neighbourhood  Scholarship  Hypertension  \\\n",
       "99832  2016-06-06T00:00:00Z   -1         ROMÃO            0             0   \n",
       "\n",
       "       Diabetes  Alcoholism  Handicap  SMS_received No_show  \n",
       "99832         0           0         0             0      No  "
      ]
     },
     "execution_count": 441,
     "metadata": {},
     "output_type": "execute_result"
    }
   ],
   "source": [
    "#Previously, I encountered a number under the age column having a negative value.\n",
    "# To identify the row containing the age with a negative value\n",
    "df.loc[df.Age == -1]\n"
   ]
  },
  {
   "cell_type": "code",
   "execution_count": 442,
   "id": "f6ccaabf",
   "metadata": {},
   "outputs": [
    {
     "data": {
      "text/html": [
       "<div>\n",
       "<style scoped>\n",
       "    .dataframe tbody tr th:only-of-type {\n",
       "        vertical-align: middle;\n",
       "    }\n",
       "\n",
       "    .dataframe tbody tr th {\n",
       "        vertical-align: top;\n",
       "    }\n",
       "\n",
       "    .dataframe thead th {\n",
       "        text-align: right;\n",
       "    }\n",
       "</style>\n",
       "<table border=\"1\" class=\"dataframe\">\n",
       "  <thead>\n",
       "    <tr style=\"text-align: right;\">\n",
       "      <th></th>\n",
       "      <th>PatientId</th>\n",
       "      <th>AppointmentID</th>\n",
       "      <th>Age</th>\n",
       "      <th>Scholarship</th>\n",
       "      <th>Hypertension</th>\n",
       "      <th>Diabetes</th>\n",
       "      <th>Alcoholism</th>\n",
       "      <th>Handicap</th>\n",
       "      <th>SMS_received</th>\n",
       "    </tr>\n",
       "  </thead>\n",
       "  <tbody>\n",
       "    <tr>\n",
       "      <th>count</th>\n",
       "      <td>1.105260e+05</td>\n",
       "      <td>1.105260e+05</td>\n",
       "      <td>110526.000000</td>\n",
       "      <td>110526.000000</td>\n",
       "      <td>110526.000000</td>\n",
       "      <td>110526.000000</td>\n",
       "      <td>110526.000000</td>\n",
       "      <td>110526.000000</td>\n",
       "      <td>110526.000000</td>\n",
       "    </tr>\n",
       "    <tr>\n",
       "      <th>mean</th>\n",
       "      <td>1.474934e+14</td>\n",
       "      <td>5.675304e+06</td>\n",
       "      <td>37.089219</td>\n",
       "      <td>0.098266</td>\n",
       "      <td>0.197248</td>\n",
       "      <td>0.071865</td>\n",
       "      <td>0.030400</td>\n",
       "      <td>0.022248</td>\n",
       "      <td>0.321029</td>\n",
       "    </tr>\n",
       "    <tr>\n",
       "      <th>std</th>\n",
       "      <td>2.560943e+14</td>\n",
       "      <td>7.129544e+04</td>\n",
       "      <td>23.110026</td>\n",
       "      <td>0.297676</td>\n",
       "      <td>0.397923</td>\n",
       "      <td>0.258266</td>\n",
       "      <td>0.171686</td>\n",
       "      <td>0.161543</td>\n",
       "      <td>0.466874</td>\n",
       "    </tr>\n",
       "    <tr>\n",
       "      <th>min</th>\n",
       "      <td>3.921784e+04</td>\n",
       "      <td>5.030230e+06</td>\n",
       "      <td>0.000000</td>\n",
       "      <td>0.000000</td>\n",
       "      <td>0.000000</td>\n",
       "      <td>0.000000</td>\n",
       "      <td>0.000000</td>\n",
       "      <td>0.000000</td>\n",
       "      <td>0.000000</td>\n",
       "    </tr>\n",
       "    <tr>\n",
       "      <th>25%</th>\n",
       "      <td>4.172536e+12</td>\n",
       "      <td>5.640285e+06</td>\n",
       "      <td>18.000000</td>\n",
       "      <td>0.000000</td>\n",
       "      <td>0.000000</td>\n",
       "      <td>0.000000</td>\n",
       "      <td>0.000000</td>\n",
       "      <td>0.000000</td>\n",
       "      <td>0.000000</td>\n",
       "    </tr>\n",
       "    <tr>\n",
       "      <th>50%</th>\n",
       "      <td>3.173184e+13</td>\n",
       "      <td>5.680572e+06</td>\n",
       "      <td>37.000000</td>\n",
       "      <td>0.000000</td>\n",
       "      <td>0.000000</td>\n",
       "      <td>0.000000</td>\n",
       "      <td>0.000000</td>\n",
       "      <td>0.000000</td>\n",
       "      <td>0.000000</td>\n",
       "    </tr>\n",
       "    <tr>\n",
       "      <th>75%</th>\n",
       "      <td>9.438963e+13</td>\n",
       "      <td>5.725523e+06</td>\n",
       "      <td>55.000000</td>\n",
       "      <td>0.000000</td>\n",
       "      <td>0.000000</td>\n",
       "      <td>0.000000</td>\n",
       "      <td>0.000000</td>\n",
       "      <td>0.000000</td>\n",
       "      <td>1.000000</td>\n",
       "    </tr>\n",
       "    <tr>\n",
       "      <th>max</th>\n",
       "      <td>9.999816e+14</td>\n",
       "      <td>5.790484e+06</td>\n",
       "      <td>115.000000</td>\n",
       "      <td>1.000000</td>\n",
       "      <td>1.000000</td>\n",
       "      <td>1.000000</td>\n",
       "      <td>1.000000</td>\n",
       "      <td>4.000000</td>\n",
       "      <td>1.000000</td>\n",
       "    </tr>\n",
       "  </tbody>\n",
       "</table>\n",
       "</div>"
      ],
      "text/plain": [
       "          PatientId  AppointmentID            Age    Scholarship  \\\n",
       "count  1.105260e+05   1.105260e+05  110526.000000  110526.000000   \n",
       "mean   1.474934e+14   5.675304e+06      37.089219       0.098266   \n",
       "std    2.560943e+14   7.129544e+04      23.110026       0.297676   \n",
       "min    3.921784e+04   5.030230e+06       0.000000       0.000000   \n",
       "25%    4.172536e+12   5.640285e+06      18.000000       0.000000   \n",
       "50%    3.173184e+13   5.680572e+06      37.000000       0.000000   \n",
       "75%    9.438963e+13   5.725523e+06      55.000000       0.000000   \n",
       "max    9.999816e+14   5.790484e+06     115.000000       1.000000   \n",
       "\n",
       "        Hypertension       Diabetes     Alcoholism       Handicap  \\\n",
       "count  110526.000000  110526.000000  110526.000000  110526.000000   \n",
       "mean        0.197248       0.071865       0.030400       0.022248   \n",
       "std         0.397923       0.258266       0.171686       0.161543   \n",
       "min         0.000000       0.000000       0.000000       0.000000   \n",
       "25%         0.000000       0.000000       0.000000       0.000000   \n",
       "50%         0.000000       0.000000       0.000000       0.000000   \n",
       "75%         0.000000       0.000000       0.000000       0.000000   \n",
       "max         1.000000       1.000000       1.000000       4.000000   \n",
       "\n",
       "        SMS_received  \n",
       "count  110526.000000  \n",
       "mean        0.321029  \n",
       "std         0.466874  \n",
       "min         0.000000  \n",
       "25%         0.000000  \n",
       "50%         0.000000  \n",
       "75%         1.000000  \n",
       "max         1.000000  "
      ]
     },
     "execution_count": 442,
     "metadata": {},
     "output_type": "execute_result"
    }
   ],
   "source": [
    "# Dropping the row with age = -1\n",
    "df = df.loc[df.Age != -1]\n",
    "\n",
    "# Checking the values in the Age column to see if it has been drooped\n",
    "df.describe()"
   ]
  },
  {
   "cell_type": "markdown",
   "id": "7979112c",
   "metadata": {},
   "source": [
    "The negative value has been removed. I will accept patients with 0 age under the assumption that they represent children less than one year old.\n",
    "\n"
   ]
  },
  {
   "cell_type": "markdown",
   "id": "d27e1e9d",
   "metadata": {},
   "source": [
    "# 4. Deal with incorrect data type by converting it "
   ]
  },
  {
   "cell_type": "code",
   "execution_count": 443,
   "id": "7fb6a152",
   "metadata": {},
   "outputs": [],
   "source": [
    "# Deal with incorrect datatype convert patient_id and appointment_id to strings\n",
    "df.PatientId = df.PatientId.astype(str)\n",
    "df.AppointmentID = df.AppointmentID.astype(str)"
   ]
  },
  {
   "cell_type": "code",
   "execution_count": 444,
   "id": "3be3d7f7",
   "metadata": {},
   "outputs": [],
   "source": [
    "# convert scheduled_day and appointment_day to datetime\n",
    "df.ScheduledDay\t\t = pd.to_datetime(df.ScheduledDay)\n",
    "df.AppointmentDay = pd.to_datetime(df.AppointmentDay)"
   ]
  },
  {
   "cell_type": "code",
   "execution_count": 445,
   "id": "2b697415",
   "metadata": {},
   "outputs": [
    {
     "data": {
      "text/html": [
       "<div>\n",
       "<style scoped>\n",
       "    .dataframe tbody tr th:only-of-type {\n",
       "        vertical-align: middle;\n",
       "    }\n",
       "\n",
       "    .dataframe tbody tr th {\n",
       "        vertical-align: top;\n",
       "    }\n",
       "\n",
       "    .dataframe thead th {\n",
       "        text-align: right;\n",
       "    }\n",
       "</style>\n",
       "<table border=\"1\" class=\"dataframe\">\n",
       "  <thead>\n",
       "    <tr style=\"text-align: right;\">\n",
       "      <th></th>\n",
       "      <th>PatientId</th>\n",
       "      <th>AppointmentID</th>\n",
       "      <th>Gender</th>\n",
       "      <th>ScheduledDay</th>\n",
       "      <th>AppointmentDay</th>\n",
       "      <th>Age</th>\n",
       "      <th>Neighbourhood</th>\n",
       "      <th>Scholarship</th>\n",
       "      <th>Hypertension</th>\n",
       "      <th>Diabetes</th>\n",
       "      <th>Alcoholism</th>\n",
       "      <th>Handicap</th>\n",
       "      <th>SMS_received</th>\n",
       "      <th>No_show</th>\n",
       "    </tr>\n",
       "  </thead>\n",
       "  <tbody>\n",
       "    <tr>\n",
       "      <th>0</th>\n",
       "      <td>29872499824296.0</td>\n",
       "      <td>5642903</td>\n",
       "      <td>F</td>\n",
       "      <td>2016-04-29 18:38:08+00:00</td>\n",
       "      <td>2016-04-29 00:00:00+00:00</td>\n",
       "      <td>62</td>\n",
       "      <td>JARDIM DA PENHA</td>\n",
       "      <td>0</td>\n",
       "      <td>1</td>\n",
       "      <td>0</td>\n",
       "      <td>0</td>\n",
       "      <td>0</td>\n",
       "      <td>0</td>\n",
       "      <td>No</td>\n",
       "    </tr>\n",
       "    <tr>\n",
       "      <th>1</th>\n",
       "      <td>558997776694438.0</td>\n",
       "      <td>5642503</td>\n",
       "      <td>M</td>\n",
       "      <td>2016-04-29 16:08:27+00:00</td>\n",
       "      <td>2016-04-29 00:00:00+00:00</td>\n",
       "      <td>56</td>\n",
       "      <td>JARDIM DA PENHA</td>\n",
       "      <td>0</td>\n",
       "      <td>0</td>\n",
       "      <td>0</td>\n",
       "      <td>0</td>\n",
       "      <td>0</td>\n",
       "      <td>0</td>\n",
       "      <td>No</td>\n",
       "    </tr>\n",
       "    <tr>\n",
       "      <th>2</th>\n",
       "      <td>4262962299951.0</td>\n",
       "      <td>5642549</td>\n",
       "      <td>F</td>\n",
       "      <td>2016-04-29 16:19:04+00:00</td>\n",
       "      <td>2016-04-29 00:00:00+00:00</td>\n",
       "      <td>62</td>\n",
       "      <td>MATA DA PRAIA</td>\n",
       "      <td>0</td>\n",
       "      <td>0</td>\n",
       "      <td>0</td>\n",
       "      <td>0</td>\n",
       "      <td>0</td>\n",
       "      <td>0</td>\n",
       "      <td>No</td>\n",
       "    </tr>\n",
       "    <tr>\n",
       "      <th>3</th>\n",
       "      <td>867951213174.0</td>\n",
       "      <td>5642828</td>\n",
       "      <td>F</td>\n",
       "      <td>2016-04-29 17:29:31+00:00</td>\n",
       "      <td>2016-04-29 00:00:00+00:00</td>\n",
       "      <td>8</td>\n",
       "      <td>PONTAL DE CAMBURI</td>\n",
       "      <td>0</td>\n",
       "      <td>0</td>\n",
       "      <td>0</td>\n",
       "      <td>0</td>\n",
       "      <td>0</td>\n",
       "      <td>0</td>\n",
       "      <td>No</td>\n",
       "    </tr>\n",
       "    <tr>\n",
       "      <th>4</th>\n",
       "      <td>8841186448183.0</td>\n",
       "      <td>5642494</td>\n",
       "      <td>F</td>\n",
       "      <td>2016-04-29 16:07:23+00:00</td>\n",
       "      <td>2016-04-29 00:00:00+00:00</td>\n",
       "      <td>56</td>\n",
       "      <td>JARDIM DA PENHA</td>\n",
       "      <td>0</td>\n",
       "      <td>1</td>\n",
       "      <td>1</td>\n",
       "      <td>0</td>\n",
       "      <td>0</td>\n",
       "      <td>0</td>\n",
       "      <td>No</td>\n",
       "    </tr>\n",
       "  </tbody>\n",
       "</table>\n",
       "</div>"
      ],
      "text/plain": [
       "           PatientId AppointmentID Gender              ScheduledDay  \\\n",
       "0   29872499824296.0       5642903      F 2016-04-29 18:38:08+00:00   \n",
       "1  558997776694438.0       5642503      M 2016-04-29 16:08:27+00:00   \n",
       "2    4262962299951.0       5642549      F 2016-04-29 16:19:04+00:00   \n",
       "3     867951213174.0       5642828      F 2016-04-29 17:29:31+00:00   \n",
       "4    8841186448183.0       5642494      F 2016-04-29 16:07:23+00:00   \n",
       "\n",
       "             AppointmentDay  Age      Neighbourhood  Scholarship  \\\n",
       "0 2016-04-29 00:00:00+00:00   62    JARDIM DA PENHA            0   \n",
       "1 2016-04-29 00:00:00+00:00   56    JARDIM DA PENHA            0   \n",
       "2 2016-04-29 00:00:00+00:00   62      MATA DA PRAIA            0   \n",
       "3 2016-04-29 00:00:00+00:00    8  PONTAL DE CAMBURI            0   \n",
       "4 2016-04-29 00:00:00+00:00   56    JARDIM DA PENHA            0   \n",
       "\n",
       "   Hypertension  Diabetes  Alcoholism  Handicap  SMS_received No_show  \n",
       "0             1         0           0         0             0      No  \n",
       "1             0         0           0         0             0      No  \n",
       "2             0         0           0         0             0      No  \n",
       "3             0         0           0         0             0      No  \n",
       "4             1         1           0         0             0      No  "
      ]
     },
     "execution_count": 445,
     "metadata": {},
     "output_type": "execute_result"
    }
   ],
   "source": [
    "df.head()"
   ]
  },
  {
   "cell_type": "markdown",
   "id": "6ae41c7d",
   "metadata": {},
   "source": [
    "# 5. Creating new columns"
   ]
  },
  {
   "cell_type": "code",
   "execution_count": 446,
   "id": "734491dc",
   "metadata": {},
   "outputs": [
    {
     "data": {
      "text/html": [
       "<div>\n",
       "<style scoped>\n",
       "    .dataframe tbody tr th:only-of-type {\n",
       "        vertical-align: middle;\n",
       "    }\n",
       "\n",
       "    .dataframe tbody tr th {\n",
       "        vertical-align: top;\n",
       "    }\n",
       "\n",
       "    .dataframe thead th {\n",
       "        text-align: right;\n",
       "    }\n",
       "</style>\n",
       "<table border=\"1\" class=\"dataframe\">\n",
       "  <thead>\n",
       "    <tr style=\"text-align: right;\">\n",
       "      <th></th>\n",
       "      <th>PatientId</th>\n",
       "      <th>AppointmentID</th>\n",
       "      <th>Gender</th>\n",
       "      <th>ScheduledDay</th>\n",
       "      <th>AppointmentDay</th>\n",
       "      <th>Age</th>\n",
       "      <th>Neighbourhood</th>\n",
       "      <th>Scholarship</th>\n",
       "      <th>Hypertension</th>\n",
       "      <th>Diabetes</th>\n",
       "      <th>Alcoholism</th>\n",
       "      <th>Handicap</th>\n",
       "      <th>SMS_received</th>\n",
       "      <th>No_show</th>\n",
       "      <th>Time_span</th>\n",
       "    </tr>\n",
       "  </thead>\n",
       "  <tbody>\n",
       "    <tr>\n",
       "      <th>0</th>\n",
       "      <td>29872499824296.0</td>\n",
       "      <td>5642903</td>\n",
       "      <td>F</td>\n",
       "      <td>2016-04-29 18:38:08+00:00</td>\n",
       "      <td>2016-04-29 00:00:00+00:00</td>\n",
       "      <td>62</td>\n",
       "      <td>JARDIM DA PENHA</td>\n",
       "      <td>0</td>\n",
       "      <td>1</td>\n",
       "      <td>0</td>\n",
       "      <td>0</td>\n",
       "      <td>0</td>\n",
       "      <td>0</td>\n",
       "      <td>No</td>\n",
       "      <td>-1 days +05:21:52</td>\n",
       "    </tr>\n",
       "    <tr>\n",
       "      <th>1</th>\n",
       "      <td>558997776694438.0</td>\n",
       "      <td>5642503</td>\n",
       "      <td>M</td>\n",
       "      <td>2016-04-29 16:08:27+00:00</td>\n",
       "      <td>2016-04-29 00:00:00+00:00</td>\n",
       "      <td>56</td>\n",
       "      <td>JARDIM DA PENHA</td>\n",
       "      <td>0</td>\n",
       "      <td>0</td>\n",
       "      <td>0</td>\n",
       "      <td>0</td>\n",
       "      <td>0</td>\n",
       "      <td>0</td>\n",
       "      <td>No</td>\n",
       "      <td>-1 days +07:51:33</td>\n",
       "    </tr>\n",
       "    <tr>\n",
       "      <th>2</th>\n",
       "      <td>4262962299951.0</td>\n",
       "      <td>5642549</td>\n",
       "      <td>F</td>\n",
       "      <td>2016-04-29 16:19:04+00:00</td>\n",
       "      <td>2016-04-29 00:00:00+00:00</td>\n",
       "      <td>62</td>\n",
       "      <td>MATA DA PRAIA</td>\n",
       "      <td>0</td>\n",
       "      <td>0</td>\n",
       "      <td>0</td>\n",
       "      <td>0</td>\n",
       "      <td>0</td>\n",
       "      <td>0</td>\n",
       "      <td>No</td>\n",
       "      <td>-1 days +07:40:56</td>\n",
       "    </tr>\n",
       "    <tr>\n",
       "      <th>3</th>\n",
       "      <td>867951213174.0</td>\n",
       "      <td>5642828</td>\n",
       "      <td>F</td>\n",
       "      <td>2016-04-29 17:29:31+00:00</td>\n",
       "      <td>2016-04-29 00:00:00+00:00</td>\n",
       "      <td>8</td>\n",
       "      <td>PONTAL DE CAMBURI</td>\n",
       "      <td>0</td>\n",
       "      <td>0</td>\n",
       "      <td>0</td>\n",
       "      <td>0</td>\n",
       "      <td>0</td>\n",
       "      <td>0</td>\n",
       "      <td>No</td>\n",
       "      <td>-1 days +06:30:29</td>\n",
       "    </tr>\n",
       "    <tr>\n",
       "      <th>4</th>\n",
       "      <td>8841186448183.0</td>\n",
       "      <td>5642494</td>\n",
       "      <td>F</td>\n",
       "      <td>2016-04-29 16:07:23+00:00</td>\n",
       "      <td>2016-04-29 00:00:00+00:00</td>\n",
       "      <td>56</td>\n",
       "      <td>JARDIM DA PENHA</td>\n",
       "      <td>0</td>\n",
       "      <td>1</td>\n",
       "      <td>1</td>\n",
       "      <td>0</td>\n",
       "      <td>0</td>\n",
       "      <td>0</td>\n",
       "      <td>No</td>\n",
       "      <td>-1 days +07:52:37</td>\n",
       "    </tr>\n",
       "  </tbody>\n",
       "</table>\n",
       "</div>"
      ],
      "text/plain": [
       "           PatientId AppointmentID Gender              ScheduledDay  \\\n",
       "0   29872499824296.0       5642903      F 2016-04-29 18:38:08+00:00   \n",
       "1  558997776694438.0       5642503      M 2016-04-29 16:08:27+00:00   \n",
       "2    4262962299951.0       5642549      F 2016-04-29 16:19:04+00:00   \n",
       "3     867951213174.0       5642828      F 2016-04-29 17:29:31+00:00   \n",
       "4    8841186448183.0       5642494      F 2016-04-29 16:07:23+00:00   \n",
       "\n",
       "             AppointmentDay  Age      Neighbourhood  Scholarship  \\\n",
       "0 2016-04-29 00:00:00+00:00   62    JARDIM DA PENHA            0   \n",
       "1 2016-04-29 00:00:00+00:00   56    JARDIM DA PENHA            0   \n",
       "2 2016-04-29 00:00:00+00:00   62      MATA DA PRAIA            0   \n",
       "3 2016-04-29 00:00:00+00:00    8  PONTAL DE CAMBURI            0   \n",
       "4 2016-04-29 00:00:00+00:00   56    JARDIM DA PENHA            0   \n",
       "\n",
       "   Hypertension  Diabetes  Alcoholism  Handicap  SMS_received No_show  \\\n",
       "0             1         0           0         0             0      No   \n",
       "1             0         0           0         0             0      No   \n",
       "2             0         0           0         0             0      No   \n",
       "3             0         0           0         0             0      No   \n",
       "4             1         1           0         0             0      No   \n",
       "\n",
       "          Time_span  \n",
       "0 -1 days +05:21:52  \n",
       "1 -1 days +07:51:33  \n",
       "2 -1 days +07:40:56  \n",
       "3 -1 days +06:30:29  \n",
       "4 -1 days +07:52:37  "
      ]
     },
     "execution_count": 446,
     "metadata": {},
     "output_type": "execute_result"
    }
   ],
   "source": [
    "# Create a new column to show the Time span (in days) between the scheduling date and appointment date \n",
    "df['Time_span'] = df.AppointmentDay- df.ScheduledDay\n",
    "df.head()"
   ]
  },
  {
   "cell_type": "code",
   "execution_count": 447,
   "id": "1cbdb545",
   "metadata": {
    "scrolled": true
   },
   "outputs": [
    {
     "data": {
      "text/html": [
       "<div>\n",
       "<style scoped>\n",
       "    .dataframe tbody tr th:only-of-type {\n",
       "        vertical-align: middle;\n",
       "    }\n",
       "\n",
       "    .dataframe tbody tr th {\n",
       "        vertical-align: top;\n",
       "    }\n",
       "\n",
       "    .dataframe thead th {\n",
       "        text-align: right;\n",
       "    }\n",
       "</style>\n",
       "<table border=\"1\" class=\"dataframe\">\n",
       "  <thead>\n",
       "    <tr style=\"text-align: right;\">\n",
       "      <th></th>\n",
       "      <th>PatientId</th>\n",
       "      <th>AppointmentID</th>\n",
       "      <th>Gender</th>\n",
       "      <th>ScheduledDay</th>\n",
       "      <th>AppointmentDay</th>\n",
       "      <th>Age</th>\n",
       "      <th>Neighbourhood</th>\n",
       "      <th>Scholarship</th>\n",
       "      <th>Hypertension</th>\n",
       "      <th>Diabetes</th>\n",
       "      <th>Alcoholism</th>\n",
       "      <th>Handicap</th>\n",
       "      <th>SMS_received</th>\n",
       "      <th>No_show</th>\n",
       "      <th>Time_span</th>\n",
       "    </tr>\n",
       "  </thead>\n",
       "  <tbody>\n",
       "    <tr>\n",
       "      <th>5</th>\n",
       "      <td>95985133231274.0</td>\n",
       "      <td>5626772</td>\n",
       "      <td>F</td>\n",
       "      <td>2016-04-27 08:36:51+00:00</td>\n",
       "      <td>2016-04-29 00:00:00+00:00</td>\n",
       "      <td>76</td>\n",
       "      <td>REPÚBLICA</td>\n",
       "      <td>0</td>\n",
       "      <td>1</td>\n",
       "      <td>0</td>\n",
       "      <td>0</td>\n",
       "      <td>0</td>\n",
       "      <td>0</td>\n",
       "      <td>No</td>\n",
       "      <td>1 days 15:23:09</td>\n",
       "    </tr>\n",
       "    <tr>\n",
       "      <th>6</th>\n",
       "      <td>733688164476661.0</td>\n",
       "      <td>5630279</td>\n",
       "      <td>F</td>\n",
       "      <td>2016-04-27 15:05:12+00:00</td>\n",
       "      <td>2016-04-29 00:00:00+00:00</td>\n",
       "      <td>23</td>\n",
       "      <td>GOIABEIRAS</td>\n",
       "      <td>0</td>\n",
       "      <td>0</td>\n",
       "      <td>0</td>\n",
       "      <td>0</td>\n",
       "      <td>0</td>\n",
       "      <td>0</td>\n",
       "      <td>Yes</td>\n",
       "      <td>1 days 08:54:48</td>\n",
       "    </tr>\n",
       "    <tr>\n",
       "      <th>7</th>\n",
       "      <td>3449833394123.0</td>\n",
       "      <td>5630575</td>\n",
       "      <td>F</td>\n",
       "      <td>2016-04-27 15:39:58+00:00</td>\n",
       "      <td>2016-04-29 00:00:00+00:00</td>\n",
       "      <td>39</td>\n",
       "      <td>GOIABEIRAS</td>\n",
       "      <td>0</td>\n",
       "      <td>0</td>\n",
       "      <td>0</td>\n",
       "      <td>0</td>\n",
       "      <td>0</td>\n",
       "      <td>0</td>\n",
       "      <td>Yes</td>\n",
       "      <td>1 days 08:20:02</td>\n",
       "    </tr>\n",
       "    <tr>\n",
       "      <th>9</th>\n",
       "      <td>78124564369297.0</td>\n",
       "      <td>5629123</td>\n",
       "      <td>F</td>\n",
       "      <td>2016-04-27 12:48:25+00:00</td>\n",
       "      <td>2016-04-29 00:00:00+00:00</td>\n",
       "      <td>19</td>\n",
       "      <td>CONQUISTA</td>\n",
       "      <td>0</td>\n",
       "      <td>0</td>\n",
       "      <td>0</td>\n",
       "      <td>0</td>\n",
       "      <td>0</td>\n",
       "      <td>0</td>\n",
       "      <td>No</td>\n",
       "      <td>1 days 11:11:35</td>\n",
       "    </tr>\n",
       "    <tr>\n",
       "      <th>10</th>\n",
       "      <td>734536231958495.0</td>\n",
       "      <td>5630213</td>\n",
       "      <td>F</td>\n",
       "      <td>2016-04-27 14:58:11+00:00</td>\n",
       "      <td>2016-04-29 00:00:00+00:00</td>\n",
       "      <td>30</td>\n",
       "      <td>NOVA PALESTINA</td>\n",
       "      <td>0</td>\n",
       "      <td>0</td>\n",
       "      <td>0</td>\n",
       "      <td>0</td>\n",
       "      <td>0</td>\n",
       "      <td>0</td>\n",
       "      <td>No</td>\n",
       "      <td>1 days 09:01:49</td>\n",
       "    </tr>\n",
       "  </tbody>\n",
       "</table>\n",
       "</div>"
      ],
      "text/plain": [
       "            PatientId AppointmentID Gender              ScheduledDay  \\\n",
       "5    95985133231274.0       5626772      F 2016-04-27 08:36:51+00:00   \n",
       "6   733688164476661.0       5630279      F 2016-04-27 15:05:12+00:00   \n",
       "7     3449833394123.0       5630575      F 2016-04-27 15:39:58+00:00   \n",
       "9    78124564369297.0       5629123      F 2016-04-27 12:48:25+00:00   \n",
       "10  734536231958495.0       5630213      F 2016-04-27 14:58:11+00:00   \n",
       "\n",
       "              AppointmentDay  Age   Neighbourhood  Scholarship  Hypertension  \\\n",
       "5  2016-04-29 00:00:00+00:00   76       REPÚBLICA            0             1   \n",
       "6  2016-04-29 00:00:00+00:00   23      GOIABEIRAS            0             0   \n",
       "7  2016-04-29 00:00:00+00:00   39      GOIABEIRAS            0             0   \n",
       "9  2016-04-29 00:00:00+00:00   19       CONQUISTA            0             0   \n",
       "10 2016-04-29 00:00:00+00:00   30  NOVA PALESTINA            0             0   \n",
       "\n",
       "    Diabetes  Alcoholism  Handicap  SMS_received No_show       Time_span  \n",
       "5          0           0         0             0      No 1 days 15:23:09  \n",
       "6          0           0         0             0     Yes 1 days 08:54:48  \n",
       "7          0           0         0             0     Yes 1 days 08:20:02  \n",
       "9          0           0         0             0      No 1 days 11:11:35  \n",
       "10         0           0         0             0      No 1 days 09:01:49  "
      ]
     },
     "execution_count": 447,
     "metadata": {},
     "output_type": "execute_result"
    }
   ],
   "source": [
    "# Excluding the records with the negative waiting duration\n",
    "\n",
    "df = df[df['AppointmentDay'] >= df['ScheduledDay']]\n",
    "df.head()"
   ]
  },
  {
   "cell_type": "code",
   "execution_count": 448,
   "id": "be05de8c",
   "metadata": {},
   "outputs": [],
   "source": [
    "df['Time_span'] = (df['Time_span']/np.timedelta64(1, 'D')).astype(int)\n"
   ]
  },
  {
   "cell_type": "code",
   "execution_count": 449,
   "id": "839aff5c",
   "metadata": {},
   "outputs": [
    {
     "data": {
      "text/html": [
       "<div>\n",
       "<style scoped>\n",
       "    .dataframe tbody tr th:only-of-type {\n",
       "        vertical-align: middle;\n",
       "    }\n",
       "\n",
       "    .dataframe tbody tr th {\n",
       "        vertical-align: top;\n",
       "    }\n",
       "\n",
       "    .dataframe thead th {\n",
       "        text-align: right;\n",
       "    }\n",
       "</style>\n",
       "<table border=\"1\" class=\"dataframe\">\n",
       "  <thead>\n",
       "    <tr style=\"text-align: right;\">\n",
       "      <th></th>\n",
       "      <th>PatientId</th>\n",
       "      <th>AppointmentID</th>\n",
       "      <th>Gender</th>\n",
       "      <th>ScheduledDay</th>\n",
       "      <th>AppointmentDay</th>\n",
       "      <th>Age</th>\n",
       "      <th>Neighbourhood</th>\n",
       "      <th>Scholarship</th>\n",
       "      <th>Hypertension</th>\n",
       "      <th>Diabetes</th>\n",
       "      <th>Alcoholism</th>\n",
       "      <th>Handicap</th>\n",
       "      <th>SMS_received</th>\n",
       "      <th>No_show</th>\n",
       "      <th>Time_span</th>\n",
       "    </tr>\n",
       "  </thead>\n",
       "  <tbody>\n",
       "    <tr>\n",
       "      <th>5</th>\n",
       "      <td>95985133231274.0</td>\n",
       "      <td>5626772</td>\n",
       "      <td>F</td>\n",
       "      <td>2016-04-27 08:36:51+00:00</td>\n",
       "      <td>2016-04-29 00:00:00+00:00</td>\n",
       "      <td>76</td>\n",
       "      <td>REPÚBLICA</td>\n",
       "      <td>0</td>\n",
       "      <td>1</td>\n",
       "      <td>0</td>\n",
       "      <td>0</td>\n",
       "      <td>0</td>\n",
       "      <td>0</td>\n",
       "      <td>No</td>\n",
       "      <td>1</td>\n",
       "    </tr>\n",
       "    <tr>\n",
       "      <th>6</th>\n",
       "      <td>733688164476661.0</td>\n",
       "      <td>5630279</td>\n",
       "      <td>F</td>\n",
       "      <td>2016-04-27 15:05:12+00:00</td>\n",
       "      <td>2016-04-29 00:00:00+00:00</td>\n",
       "      <td>23</td>\n",
       "      <td>GOIABEIRAS</td>\n",
       "      <td>0</td>\n",
       "      <td>0</td>\n",
       "      <td>0</td>\n",
       "      <td>0</td>\n",
       "      <td>0</td>\n",
       "      <td>0</td>\n",
       "      <td>Yes</td>\n",
       "      <td>1</td>\n",
       "    </tr>\n",
       "    <tr>\n",
       "      <th>7</th>\n",
       "      <td>3449833394123.0</td>\n",
       "      <td>5630575</td>\n",
       "      <td>F</td>\n",
       "      <td>2016-04-27 15:39:58+00:00</td>\n",
       "      <td>2016-04-29 00:00:00+00:00</td>\n",
       "      <td>39</td>\n",
       "      <td>GOIABEIRAS</td>\n",
       "      <td>0</td>\n",
       "      <td>0</td>\n",
       "      <td>0</td>\n",
       "      <td>0</td>\n",
       "      <td>0</td>\n",
       "      <td>0</td>\n",
       "      <td>Yes</td>\n",
       "      <td>1</td>\n",
       "    </tr>\n",
       "    <tr>\n",
       "      <th>9</th>\n",
       "      <td>78124564369297.0</td>\n",
       "      <td>5629123</td>\n",
       "      <td>F</td>\n",
       "      <td>2016-04-27 12:48:25+00:00</td>\n",
       "      <td>2016-04-29 00:00:00+00:00</td>\n",
       "      <td>19</td>\n",
       "      <td>CONQUISTA</td>\n",
       "      <td>0</td>\n",
       "      <td>0</td>\n",
       "      <td>0</td>\n",
       "      <td>0</td>\n",
       "      <td>0</td>\n",
       "      <td>0</td>\n",
       "      <td>No</td>\n",
       "      <td>1</td>\n",
       "    </tr>\n",
       "    <tr>\n",
       "      <th>10</th>\n",
       "      <td>734536231958495.0</td>\n",
       "      <td>5630213</td>\n",
       "      <td>F</td>\n",
       "      <td>2016-04-27 14:58:11+00:00</td>\n",
       "      <td>2016-04-29 00:00:00+00:00</td>\n",
       "      <td>30</td>\n",
       "      <td>NOVA PALESTINA</td>\n",
       "      <td>0</td>\n",
       "      <td>0</td>\n",
       "      <td>0</td>\n",
       "      <td>0</td>\n",
       "      <td>0</td>\n",
       "      <td>0</td>\n",
       "      <td>No</td>\n",
       "      <td>1</td>\n",
       "    </tr>\n",
       "  </tbody>\n",
       "</table>\n",
       "</div>"
      ],
      "text/plain": [
       "            PatientId AppointmentID Gender              ScheduledDay  \\\n",
       "5    95985133231274.0       5626772      F 2016-04-27 08:36:51+00:00   \n",
       "6   733688164476661.0       5630279      F 2016-04-27 15:05:12+00:00   \n",
       "7     3449833394123.0       5630575      F 2016-04-27 15:39:58+00:00   \n",
       "9    78124564369297.0       5629123      F 2016-04-27 12:48:25+00:00   \n",
       "10  734536231958495.0       5630213      F 2016-04-27 14:58:11+00:00   \n",
       "\n",
       "              AppointmentDay  Age   Neighbourhood  Scholarship  Hypertension  \\\n",
       "5  2016-04-29 00:00:00+00:00   76       REPÚBLICA            0             1   \n",
       "6  2016-04-29 00:00:00+00:00   23      GOIABEIRAS            0             0   \n",
       "7  2016-04-29 00:00:00+00:00   39      GOIABEIRAS            0             0   \n",
       "9  2016-04-29 00:00:00+00:00   19       CONQUISTA            0             0   \n",
       "10 2016-04-29 00:00:00+00:00   30  NOVA PALESTINA            0             0   \n",
       "\n",
       "    Diabetes  Alcoholism  Handicap  SMS_received No_show  Time_span  \n",
       "5          0           0         0             0      No          1  \n",
       "6          0           0         0             0     Yes          1  \n",
       "7          0           0         0             0     Yes          1  \n",
       "9          0           0         0             0      No          1  \n",
       "10         0           0         0             0      No          1  "
      ]
     },
     "execution_count": 449,
     "metadata": {},
     "output_type": "execute_result"
    }
   ],
   "source": [
    "df.head()"
   ]
  },
  {
   "cell_type": "code",
   "execution_count": 450,
   "id": "4652ab9e",
   "metadata": {},
   "outputs": [
    {
     "data": {
      "text/html": [
       "<div>\n",
       "<style scoped>\n",
       "    .dataframe tbody tr th:only-of-type {\n",
       "        vertical-align: middle;\n",
       "    }\n",
       "\n",
       "    .dataframe tbody tr th {\n",
       "        vertical-align: top;\n",
       "    }\n",
       "\n",
       "    .dataframe thead th {\n",
       "        text-align: right;\n",
       "    }\n",
       "</style>\n",
       "<table border=\"1\" class=\"dataframe\">\n",
       "  <thead>\n",
       "    <tr style=\"text-align: right;\">\n",
       "      <th></th>\n",
       "      <th>PatientId</th>\n",
       "      <th>AppointmentID</th>\n",
       "      <th>Gender</th>\n",
       "      <th>ScheduledDay</th>\n",
       "      <th>AppointmentDay</th>\n",
       "      <th>Age</th>\n",
       "      <th>Neighbourhood</th>\n",
       "      <th>Scholarship</th>\n",
       "      <th>Hypertension</th>\n",
       "      <th>Diabetes</th>\n",
       "      <th>Alcoholism</th>\n",
       "      <th>Handicap</th>\n",
       "      <th>SMS_received</th>\n",
       "      <th>No_show</th>\n",
       "      <th>Time_span</th>\n",
       "      <th>Waiting_duration</th>\n",
       "    </tr>\n",
       "  </thead>\n",
       "  <tbody>\n",
       "    <tr>\n",
       "      <th>5</th>\n",
       "      <td>95985133231274.0</td>\n",
       "      <td>5626772</td>\n",
       "      <td>F</td>\n",
       "      <td>2016-04-27 08:36:51+00:00</td>\n",
       "      <td>2016-04-29 00:00:00+00:00</td>\n",
       "      <td>76</td>\n",
       "      <td>REPÚBLICA</td>\n",
       "      <td>0</td>\n",
       "      <td>1</td>\n",
       "      <td>0</td>\n",
       "      <td>0</td>\n",
       "      <td>0</td>\n",
       "      <td>0</td>\n",
       "      <td>No</td>\n",
       "      <td>1</td>\n",
       "      <td>0-7</td>\n",
       "    </tr>\n",
       "    <tr>\n",
       "      <th>6</th>\n",
       "      <td>733688164476661.0</td>\n",
       "      <td>5630279</td>\n",
       "      <td>F</td>\n",
       "      <td>2016-04-27 15:05:12+00:00</td>\n",
       "      <td>2016-04-29 00:00:00+00:00</td>\n",
       "      <td>23</td>\n",
       "      <td>GOIABEIRAS</td>\n",
       "      <td>0</td>\n",
       "      <td>0</td>\n",
       "      <td>0</td>\n",
       "      <td>0</td>\n",
       "      <td>0</td>\n",
       "      <td>0</td>\n",
       "      <td>Yes</td>\n",
       "      <td>1</td>\n",
       "      <td>0-7</td>\n",
       "    </tr>\n",
       "    <tr>\n",
       "      <th>7</th>\n",
       "      <td>3449833394123.0</td>\n",
       "      <td>5630575</td>\n",
       "      <td>F</td>\n",
       "      <td>2016-04-27 15:39:58+00:00</td>\n",
       "      <td>2016-04-29 00:00:00+00:00</td>\n",
       "      <td>39</td>\n",
       "      <td>GOIABEIRAS</td>\n",
       "      <td>0</td>\n",
       "      <td>0</td>\n",
       "      <td>0</td>\n",
       "      <td>0</td>\n",
       "      <td>0</td>\n",
       "      <td>0</td>\n",
       "      <td>Yes</td>\n",
       "      <td>1</td>\n",
       "      <td>0-7</td>\n",
       "    </tr>\n",
       "    <tr>\n",
       "      <th>9</th>\n",
       "      <td>78124564369297.0</td>\n",
       "      <td>5629123</td>\n",
       "      <td>F</td>\n",
       "      <td>2016-04-27 12:48:25+00:00</td>\n",
       "      <td>2016-04-29 00:00:00+00:00</td>\n",
       "      <td>19</td>\n",
       "      <td>CONQUISTA</td>\n",
       "      <td>0</td>\n",
       "      <td>0</td>\n",
       "      <td>0</td>\n",
       "      <td>0</td>\n",
       "      <td>0</td>\n",
       "      <td>0</td>\n",
       "      <td>No</td>\n",
       "      <td>1</td>\n",
       "      <td>0-7</td>\n",
       "    </tr>\n",
       "    <tr>\n",
       "      <th>10</th>\n",
       "      <td>734536231958495.0</td>\n",
       "      <td>5630213</td>\n",
       "      <td>F</td>\n",
       "      <td>2016-04-27 14:58:11+00:00</td>\n",
       "      <td>2016-04-29 00:00:00+00:00</td>\n",
       "      <td>30</td>\n",
       "      <td>NOVA PALESTINA</td>\n",
       "      <td>0</td>\n",
       "      <td>0</td>\n",
       "      <td>0</td>\n",
       "      <td>0</td>\n",
       "      <td>0</td>\n",
       "      <td>0</td>\n",
       "      <td>No</td>\n",
       "      <td>1</td>\n",
       "      <td>0-7</td>\n",
       "    </tr>\n",
       "  </tbody>\n",
       "</table>\n",
       "</div>"
      ],
      "text/plain": [
       "            PatientId AppointmentID Gender              ScheduledDay  \\\n",
       "5    95985133231274.0       5626772      F 2016-04-27 08:36:51+00:00   \n",
       "6   733688164476661.0       5630279      F 2016-04-27 15:05:12+00:00   \n",
       "7     3449833394123.0       5630575      F 2016-04-27 15:39:58+00:00   \n",
       "9    78124564369297.0       5629123      F 2016-04-27 12:48:25+00:00   \n",
       "10  734536231958495.0       5630213      F 2016-04-27 14:58:11+00:00   \n",
       "\n",
       "              AppointmentDay  Age   Neighbourhood  Scholarship  Hypertension  \\\n",
       "5  2016-04-29 00:00:00+00:00   76       REPÚBLICA            0             1   \n",
       "6  2016-04-29 00:00:00+00:00   23      GOIABEIRAS            0             0   \n",
       "7  2016-04-29 00:00:00+00:00   39      GOIABEIRAS            0             0   \n",
       "9  2016-04-29 00:00:00+00:00   19       CONQUISTA            0             0   \n",
       "10 2016-04-29 00:00:00+00:00   30  NOVA PALESTINA            0             0   \n",
       "\n",
       "    Diabetes  Alcoholism  Handicap  SMS_received No_show  Time_span  \\\n",
       "5          0           0         0             0      No          1   \n",
       "6          0           0         0             0     Yes          1   \n",
       "7          0           0         0             0     Yes          1   \n",
       "9          0           0         0             0      No          1   \n",
       "10         0           0         0             0      No          1   \n",
       "\n",
       "   Waiting_duration  \n",
       "5               0-7  \n",
       "6               0-7  \n",
       "7               0-7  \n",
       "9               0-7  \n",
       "10              0-7  "
      ]
     },
     "execution_count": 450,
     "metadata": {},
     "output_type": "execute_result"
    }
   ],
   "source": [
    "#creating column for waiting duration groups\n",
    "bins= [0, 7, 14, 21, 28, 35, 42]\n",
    "labels = ['0-7','8-14','15-21','22-28','29-35', '36-42']\n",
    "df['Waiting_duration'] = pd.cut(df['Time_span'], bins=bins, labels=labels, right=False)\n",
    "df.head()"
   ]
  },
  {
   "cell_type": "code",
   "execution_count": 451,
   "id": "493dee3a",
   "metadata": {},
   "outputs": [
    {
     "data": {
      "text/html": [
       "<div>\n",
       "<style scoped>\n",
       "    .dataframe tbody tr th:only-of-type {\n",
       "        vertical-align: middle;\n",
       "    }\n",
       "\n",
       "    .dataframe tbody tr th {\n",
       "        vertical-align: top;\n",
       "    }\n",
       "\n",
       "    .dataframe thead th {\n",
       "        text-align: right;\n",
       "    }\n",
       "</style>\n",
       "<table border=\"1\" class=\"dataframe\">\n",
       "  <thead>\n",
       "    <tr style=\"text-align: right;\">\n",
       "      <th></th>\n",
       "      <th>PatientId</th>\n",
       "      <th>AppointmentID</th>\n",
       "      <th>Gender</th>\n",
       "      <th>ScheduledDay</th>\n",
       "      <th>AppointmentDay</th>\n",
       "      <th>Age</th>\n",
       "      <th>Neighbourhood</th>\n",
       "      <th>Scholarship</th>\n",
       "      <th>Hypertension</th>\n",
       "      <th>Diabetes</th>\n",
       "      <th>Alcoholism</th>\n",
       "      <th>Handicap</th>\n",
       "      <th>SMS_received</th>\n",
       "      <th>No_show</th>\n",
       "      <th>Time_span</th>\n",
       "      <th>Waiting_duration</th>\n",
       "      <th>Age_group</th>\n",
       "    </tr>\n",
       "  </thead>\n",
       "  <tbody>\n",
       "    <tr>\n",
       "      <th>5</th>\n",
       "      <td>95985133231274.0</td>\n",
       "      <td>5626772</td>\n",
       "      <td>F</td>\n",
       "      <td>2016-04-27 08:36:51+00:00</td>\n",
       "      <td>2016-04-29 00:00:00+00:00</td>\n",
       "      <td>76</td>\n",
       "      <td>REPÚBLICA</td>\n",
       "      <td>0</td>\n",
       "      <td>1</td>\n",
       "      <td>0</td>\n",
       "      <td>0</td>\n",
       "      <td>0</td>\n",
       "      <td>0</td>\n",
       "      <td>No</td>\n",
       "      <td>1</td>\n",
       "      <td>0-7</td>\n",
       "      <td>61-80</td>\n",
       "    </tr>\n",
       "    <tr>\n",
       "      <th>6</th>\n",
       "      <td>733688164476661.0</td>\n",
       "      <td>5630279</td>\n",
       "      <td>F</td>\n",
       "      <td>2016-04-27 15:05:12+00:00</td>\n",
       "      <td>2016-04-29 00:00:00+00:00</td>\n",
       "      <td>23</td>\n",
       "      <td>GOIABEIRAS</td>\n",
       "      <td>0</td>\n",
       "      <td>0</td>\n",
       "      <td>0</td>\n",
       "      <td>0</td>\n",
       "      <td>0</td>\n",
       "      <td>0</td>\n",
       "      <td>Yes</td>\n",
       "      <td>1</td>\n",
       "      <td>0-7</td>\n",
       "      <td>21-40</td>\n",
       "    </tr>\n",
       "    <tr>\n",
       "      <th>7</th>\n",
       "      <td>3449833394123.0</td>\n",
       "      <td>5630575</td>\n",
       "      <td>F</td>\n",
       "      <td>2016-04-27 15:39:58+00:00</td>\n",
       "      <td>2016-04-29 00:00:00+00:00</td>\n",
       "      <td>39</td>\n",
       "      <td>GOIABEIRAS</td>\n",
       "      <td>0</td>\n",
       "      <td>0</td>\n",
       "      <td>0</td>\n",
       "      <td>0</td>\n",
       "      <td>0</td>\n",
       "      <td>0</td>\n",
       "      <td>Yes</td>\n",
       "      <td>1</td>\n",
       "      <td>0-7</td>\n",
       "      <td>21-40</td>\n",
       "    </tr>\n",
       "    <tr>\n",
       "      <th>9</th>\n",
       "      <td>78124564369297.0</td>\n",
       "      <td>5629123</td>\n",
       "      <td>F</td>\n",
       "      <td>2016-04-27 12:48:25+00:00</td>\n",
       "      <td>2016-04-29 00:00:00+00:00</td>\n",
       "      <td>19</td>\n",
       "      <td>CONQUISTA</td>\n",
       "      <td>0</td>\n",
       "      <td>0</td>\n",
       "      <td>0</td>\n",
       "      <td>0</td>\n",
       "      <td>0</td>\n",
       "      <td>0</td>\n",
       "      <td>No</td>\n",
       "      <td>1</td>\n",
       "      <td>0-7</td>\n",
       "      <td>0-20</td>\n",
       "    </tr>\n",
       "    <tr>\n",
       "      <th>10</th>\n",
       "      <td>734536231958495.0</td>\n",
       "      <td>5630213</td>\n",
       "      <td>F</td>\n",
       "      <td>2016-04-27 14:58:11+00:00</td>\n",
       "      <td>2016-04-29 00:00:00+00:00</td>\n",
       "      <td>30</td>\n",
       "      <td>NOVA PALESTINA</td>\n",
       "      <td>0</td>\n",
       "      <td>0</td>\n",
       "      <td>0</td>\n",
       "      <td>0</td>\n",
       "      <td>0</td>\n",
       "      <td>0</td>\n",
       "      <td>No</td>\n",
       "      <td>1</td>\n",
       "      <td>0-7</td>\n",
       "      <td>21-40</td>\n",
       "    </tr>\n",
       "  </tbody>\n",
       "</table>\n",
       "</div>"
      ],
      "text/plain": [
       "            PatientId AppointmentID Gender              ScheduledDay  \\\n",
       "5    95985133231274.0       5626772      F 2016-04-27 08:36:51+00:00   \n",
       "6   733688164476661.0       5630279      F 2016-04-27 15:05:12+00:00   \n",
       "7     3449833394123.0       5630575      F 2016-04-27 15:39:58+00:00   \n",
       "9    78124564369297.0       5629123      F 2016-04-27 12:48:25+00:00   \n",
       "10  734536231958495.0       5630213      F 2016-04-27 14:58:11+00:00   \n",
       "\n",
       "              AppointmentDay  Age   Neighbourhood  Scholarship  Hypertension  \\\n",
       "5  2016-04-29 00:00:00+00:00   76       REPÚBLICA            0             1   \n",
       "6  2016-04-29 00:00:00+00:00   23      GOIABEIRAS            0             0   \n",
       "7  2016-04-29 00:00:00+00:00   39      GOIABEIRAS            0             0   \n",
       "9  2016-04-29 00:00:00+00:00   19       CONQUISTA            0             0   \n",
       "10 2016-04-29 00:00:00+00:00   30  NOVA PALESTINA            0             0   \n",
       "\n",
       "    Diabetes  Alcoholism  Handicap  SMS_received No_show  Time_span  \\\n",
       "5          0           0         0             0      No          1   \n",
       "6          0           0         0             0     Yes          1   \n",
       "7          0           0         0             0     Yes          1   \n",
       "9          0           0         0             0      No          1   \n",
       "10         0           0         0             0      No          1   \n",
       "\n",
       "   Waiting_duration Age_group  \n",
       "5               0-7     61-80  \n",
       "6               0-7     21-40  \n",
       "7               0-7     21-40  \n",
       "9               0-7      0-20  \n",
       "10              0-7     21-40  "
      ]
     },
     "execution_count": 451,
     "metadata": {},
     "output_type": "execute_result"
    }
   ],
   "source": [
    "#creating column for age groups\n",
    "bins= [0, 20, 40, 60, 80, 100, 120]\n",
    "labels = ['0-20','21-40','41-60','61-80','81-100', '101-120']\n",
    "df['Age_group'] = pd.cut(df['Age'], bins=bins, labels=labels, right=False)\n",
    "df.head()"
   ]
  },
  {
   "cell_type": "code",
   "execution_count": 452,
   "id": "5eb86542",
   "metadata": {},
   "outputs": [
    {
     "data": {
      "text/html": [
       "<div>\n",
       "<style scoped>\n",
       "    .dataframe tbody tr th:only-of-type {\n",
       "        vertical-align: middle;\n",
       "    }\n",
       "\n",
       "    .dataframe tbody tr th {\n",
       "        vertical-align: top;\n",
       "    }\n",
       "\n",
       "    .dataframe thead th {\n",
       "        text-align: right;\n",
       "    }\n",
       "</style>\n",
       "<table border=\"1\" class=\"dataframe\">\n",
       "  <thead>\n",
       "    <tr style=\"text-align: right;\">\n",
       "      <th></th>\n",
       "      <th>PatientId</th>\n",
       "      <th>AppointmentID</th>\n",
       "      <th>Gender</th>\n",
       "      <th>ScheduledDay</th>\n",
       "      <th>AppointmentDay</th>\n",
       "      <th>Age</th>\n",
       "      <th>Neighbourhood</th>\n",
       "      <th>Scholarship</th>\n",
       "      <th>Hypertension</th>\n",
       "      <th>Diabetes</th>\n",
       "      <th>Alcoholism</th>\n",
       "      <th>Handicap</th>\n",
       "      <th>SMS_received</th>\n",
       "      <th>No_show</th>\n",
       "      <th>Time_span</th>\n",
       "      <th>Waiting_duration</th>\n",
       "      <th>Age_group</th>\n",
       "      <th>Week_Day</th>\n",
       "    </tr>\n",
       "  </thead>\n",
       "  <tbody>\n",
       "    <tr>\n",
       "      <th>5</th>\n",
       "      <td>95985133231274.0</td>\n",
       "      <td>5626772</td>\n",
       "      <td>F</td>\n",
       "      <td>2016-04-27 08:36:51+00:00</td>\n",
       "      <td>2016-04-29 00:00:00+00:00</td>\n",
       "      <td>76</td>\n",
       "      <td>REPÚBLICA</td>\n",
       "      <td>0</td>\n",
       "      <td>1</td>\n",
       "      <td>0</td>\n",
       "      <td>0</td>\n",
       "      <td>0</td>\n",
       "      <td>0</td>\n",
       "      <td>No</td>\n",
       "      <td>1</td>\n",
       "      <td>0-7</td>\n",
       "      <td>61-80</td>\n",
       "      <td>Friday</td>\n",
       "    </tr>\n",
       "    <tr>\n",
       "      <th>6</th>\n",
       "      <td>733688164476661.0</td>\n",
       "      <td>5630279</td>\n",
       "      <td>F</td>\n",
       "      <td>2016-04-27 15:05:12+00:00</td>\n",
       "      <td>2016-04-29 00:00:00+00:00</td>\n",
       "      <td>23</td>\n",
       "      <td>GOIABEIRAS</td>\n",
       "      <td>0</td>\n",
       "      <td>0</td>\n",
       "      <td>0</td>\n",
       "      <td>0</td>\n",
       "      <td>0</td>\n",
       "      <td>0</td>\n",
       "      <td>Yes</td>\n",
       "      <td>1</td>\n",
       "      <td>0-7</td>\n",
       "      <td>21-40</td>\n",
       "      <td>Friday</td>\n",
       "    </tr>\n",
       "    <tr>\n",
       "      <th>7</th>\n",
       "      <td>3449833394123.0</td>\n",
       "      <td>5630575</td>\n",
       "      <td>F</td>\n",
       "      <td>2016-04-27 15:39:58+00:00</td>\n",
       "      <td>2016-04-29 00:00:00+00:00</td>\n",
       "      <td>39</td>\n",
       "      <td>GOIABEIRAS</td>\n",
       "      <td>0</td>\n",
       "      <td>0</td>\n",
       "      <td>0</td>\n",
       "      <td>0</td>\n",
       "      <td>0</td>\n",
       "      <td>0</td>\n",
       "      <td>Yes</td>\n",
       "      <td>1</td>\n",
       "      <td>0-7</td>\n",
       "      <td>21-40</td>\n",
       "      <td>Friday</td>\n",
       "    </tr>\n",
       "    <tr>\n",
       "      <th>9</th>\n",
       "      <td>78124564369297.0</td>\n",
       "      <td>5629123</td>\n",
       "      <td>F</td>\n",
       "      <td>2016-04-27 12:48:25+00:00</td>\n",
       "      <td>2016-04-29 00:00:00+00:00</td>\n",
       "      <td>19</td>\n",
       "      <td>CONQUISTA</td>\n",
       "      <td>0</td>\n",
       "      <td>0</td>\n",
       "      <td>0</td>\n",
       "      <td>0</td>\n",
       "      <td>0</td>\n",
       "      <td>0</td>\n",
       "      <td>No</td>\n",
       "      <td>1</td>\n",
       "      <td>0-7</td>\n",
       "      <td>0-20</td>\n",
       "      <td>Friday</td>\n",
       "    </tr>\n",
       "    <tr>\n",
       "      <th>10</th>\n",
       "      <td>734536231958495.0</td>\n",
       "      <td>5630213</td>\n",
       "      <td>F</td>\n",
       "      <td>2016-04-27 14:58:11+00:00</td>\n",
       "      <td>2016-04-29 00:00:00+00:00</td>\n",
       "      <td>30</td>\n",
       "      <td>NOVA PALESTINA</td>\n",
       "      <td>0</td>\n",
       "      <td>0</td>\n",
       "      <td>0</td>\n",
       "      <td>0</td>\n",
       "      <td>0</td>\n",
       "      <td>0</td>\n",
       "      <td>No</td>\n",
       "      <td>1</td>\n",
       "      <td>0-7</td>\n",
       "      <td>21-40</td>\n",
       "      <td>Friday</td>\n",
       "    </tr>\n",
       "  </tbody>\n",
       "</table>\n",
       "</div>"
      ],
      "text/plain": [
       "            PatientId AppointmentID Gender              ScheduledDay  \\\n",
       "5    95985133231274.0       5626772      F 2016-04-27 08:36:51+00:00   \n",
       "6   733688164476661.0       5630279      F 2016-04-27 15:05:12+00:00   \n",
       "7     3449833394123.0       5630575      F 2016-04-27 15:39:58+00:00   \n",
       "9    78124564369297.0       5629123      F 2016-04-27 12:48:25+00:00   \n",
       "10  734536231958495.0       5630213      F 2016-04-27 14:58:11+00:00   \n",
       "\n",
       "              AppointmentDay  Age   Neighbourhood  Scholarship  Hypertension  \\\n",
       "5  2016-04-29 00:00:00+00:00   76       REPÚBLICA            0             1   \n",
       "6  2016-04-29 00:00:00+00:00   23      GOIABEIRAS            0             0   \n",
       "7  2016-04-29 00:00:00+00:00   39      GOIABEIRAS            0             0   \n",
       "9  2016-04-29 00:00:00+00:00   19       CONQUISTA            0             0   \n",
       "10 2016-04-29 00:00:00+00:00   30  NOVA PALESTINA            0             0   \n",
       "\n",
       "    Diabetes  Alcoholism  Handicap  SMS_received No_show  Time_span  \\\n",
       "5          0           0         0             0      No          1   \n",
       "6          0           0         0             0     Yes          1   \n",
       "7          0           0         0             0     Yes          1   \n",
       "9          0           0         0             0      No          1   \n",
       "10         0           0         0             0      No          1   \n",
       "\n",
       "   Waiting_duration Age_group Week_Day  \n",
       "5               0-7     61-80   Friday  \n",
       "6               0-7     21-40   Friday  \n",
       "7               0-7     21-40   Friday  \n",
       "9               0-7      0-20   Friday  \n",
       "10              0-7     21-40   Friday  "
      ]
     },
     "execution_count": 452,
     "metadata": {},
     "output_type": "execute_result"
    }
   ],
   "source": [
    "#creating a column to know which day of the week the patients have their appointment\n",
    "df['Week_Day'] =  df.AppointmentDay.dt.day_name()\n",
    "df.head()"
   ]
  },
  {
   "cell_type": "markdown",
   "id": "a469e17e",
   "metadata": {},
   "source": [
    "# Data wrangling summary¶\n",
    "After gathering my data from the CSV file, I explored the columns to see their general properties and checked to see if there was any missing data. Then, I checked to see if there were duplicated entries. After this, I computed a summary of the statistics of the DataFrame columns. Finally, i cleaned the data by correcting the column names and dropping unnecessary information. I also created new columns that will help me in my analysis."
   ]
  },
  {
   "cell_type": "markdown",
   "id": "8f0555ed",
   "metadata": {},
   "source": [
    "# Exploratory data analysis"
   ]
  },
  {
   "cell_type": "markdown",
   "id": "1eda6cb0",
   "metadata": {},
   "source": [
    "# General look"
   ]
  },
  {
   "cell_type": "code",
   "execution_count": 453,
   "id": "620122ae",
   "metadata": {
    "scrolled": true
   },
   "outputs": [
    {
     "data": {
      "text/plain": [
       "Text(0, 0.5, 'Number of patients')"
      ]
     },
     "execution_count": 453,
     "metadata": {},
     "output_type": "execute_result"
    },
    {
     "data": {
      "image/png": "[encoded data removed]",
      "text/plain": [
       "<Figure size 432x288 with 1 Axes>"
      ]
     },
     "metadata": {
      "needs_background": "light"
     },
     "output_type": "display_data"
    }
   ],
   "source": [
    "#Exploring the various data sets with histograms\n",
    "#Exploring age\n",
    "Age = df.Age.hist(figsize= (6,4), grid=False, edgecolor=\"black\").set_title('AGE')\n",
    "plt.xlabel('Age range')\n",
    "plt.ylabel('Number of patients')\n"
   ]
  },
  {
   "cell_type": "markdown",
   "id": "c3d547c9",
   "metadata": {},
   "source": [
    "A histogram showing the various number of patients that fall within the minimum and maximum age ranges (0-115 years). Majority of the patients are between 0-10 years."
   ]
  },
  {
   "cell_type": "code",
   "execution_count": 454,
   "id": "b3f658b1",
   "metadata": {},
   "outputs": [
    {
     "data": {
      "text/plain": [
       "Text(0, 0.5, 'Number of patients')"
      ]
     },
     "execution_count": 454,
     "metadata": {},
     "output_type": "execute_result"
    },
    {
     "data": {
      "image/png": "[encoded data removed]",
      "text/plain": [
       "<Figure size 432x288 with 1 Axes>"
      ]
     },
     "metadata": {
      "needs_background": "light"
     },
     "output_type": "display_data"
    }
   ],
   "source": [
    "#Exploring scholarships\n",
    "Scholarship = df.Scholarship.hist(figsize= (6,4), grid=False, edgecolor=\"black\").set_title('SCHOLARSHIP')\n",
    "plt.xlabel('Scholarship')\n",
    "plt.ylabel('Number of patients')"
   ]
  },
  {
   "cell_type": "markdown",
   "id": "34425e8f",
   "metadata": {},
   "source": [
    "This data showed that about 90,000 persons are not in the scholarship program while about 10,000 are."
   ]
  },
  {
   "cell_type": "code",
   "execution_count": 455,
   "id": "b86818d9",
   "metadata": {},
   "outputs": [
    {
     "data": {
      "text/plain": [
       "Text(0, 0.5, 'Number of patients')"
      ]
     },
     "execution_count": 455,
     "metadata": {},
     "output_type": "execute_result"
    },
    {
     "data": {
      "image/png": "[encoded data removed]",
      "text/plain": [
       "<Figure size 648x360 with 1 Axes>"
      ]
     },
     "metadata": {
      "needs_background": "light"
     },
     "output_type": "display_data"
    }
   ],
   "source": [
    "#Exploring hypertension\n",
    "Hypertension = df.Hypertension.hist(figsize= (9,5), grid=False, edgecolor=\"black\").set_title('HYPERTENSION')\n",
    "plt.xlabel('Hypertension')\n",
    "plt.ylabel('Number of patients')"
   ]
  },
  {
   "cell_type": "markdown",
   "id": "6f3eb936",
   "metadata": {},
   "source": [
    "This data showed that the number of those without hypertension (about 80,000+) is higher than those with hypertension (20,000)"
   ]
  },
  {
   "cell_type": "code",
   "execution_count": 456,
   "id": "ca06c628",
   "metadata": {},
   "outputs": [
    {
     "data": {
      "text/plain": [
       "Text(0, 0.5, 'Number of patients')"
      ]
     },
     "execution_count": 456,
     "metadata": {},
     "output_type": "execute_result"
    },
    {
     "data": {
      "image/png": "[encoded data removed]",
      "text/plain": [
       "<Figure size 648x360 with 1 Axes>"
      ]
     },
     "metadata": {
      "needs_background": "light"
     },
     "output_type": "display_data"
    }
   ],
   "source": [
    "#Exploring diabetes\n",
    "Diabetes = df.Diabetes.hist(figsize= (9,5), grid=False, edgecolor=\"black\").set_title('DIABETES')\n",
    "plt.xlabel('Diabetes')\n",
    "plt.ylabel('Number of patients')"
   ]
  },
  {
   "cell_type": "markdown",
   "id": "c516afb2",
   "metadata": {},
   "source": [
    "This data showed that the number of those without diabetes (about 100,000+) is higher than those with diabetes (less than 20,000)"
   ]
  },
  {
   "cell_type": "code",
   "execution_count": 457,
   "id": "a7ecab4e",
   "metadata": {},
   "outputs": [
    {
     "data": {
      "text/plain": [
       "Text(0, 0.5, 'Number of patients')"
      ]
     },
     "execution_count": 457,
     "metadata": {},
     "output_type": "execute_result"
    },
    {
     "data": {
      "image/png": "[encoded data removed]",
      "text/plain": [
       "<Figure size 648x360 with 1 Axes>"
      ]
     },
     "metadata": {
      "needs_background": "light"
     },
     "output_type": "display_data"
    }
   ],
   "source": [
    "#Exploring alcoholism\n",
    "Alcoholism = df.Alcoholism.hist(figsize= (9,5), grid=False, edgecolor=\"black\").set_title('ALCOHOLISM')\n",
    "plt.xlabel('Alcoholism')\n",
    "plt.ylabel('Number of patients')"
   ]
  },
  {
   "cell_type": "markdown",
   "id": "ac8e4118",
   "metadata": {},
   "source": [
    "This data showed that the number of those without alcoholism (about 100,000+) is higher than those with alcoholism (less than 20,000)"
   ]
  },
  {
   "cell_type": "code",
   "execution_count": 458,
   "id": "20cfde7f",
   "metadata": {},
   "outputs": [
    {
     "data": {
      "text/plain": [
       "Text(0, 0.5, 'Number of patients')"
      ]
     },
     "execution_count": 458,
     "metadata": {},
     "output_type": "execute_result"
    },
    {
     "data": {
      "image/png": "[encoded data removed]",
      "text/plain": [
       "<Figure size 648x360 with 1 Axes>"
      ]
     },
     "metadata": {
      "needs_background": "light"
     },
     "output_type": "display_data"
    }
   ],
   "source": [
    "#Exploring handicap\n",
    "Handicap = df.Handicap.hist(figsize= (9,5), grid=False, edgecolor=\"black\").set_title('HANDICAP')\n",
    "plt.xlabel('Handicap')\n",
    "plt.ylabel('Number of patients')"
   ]
  },
  {
   "cell_type": "markdown",
   "id": "28aa4ed7",
   "metadata": {},
   "source": [
    "This data showed that majority of the patients are not handicapped."
   ]
  },
  {
   "cell_type": "code",
   "execution_count": 459,
   "id": "69526186",
   "metadata": {},
   "outputs": [
    {
     "data": {
      "text/plain": [
       "Text(0, 0.5, 'Number of patients')"
      ]
     },
     "execution_count": 459,
     "metadata": {},
     "output_type": "execute_result"
    },
    {
     "data": {
      "image/png": "[encoded data removed]",
      "text/plain": [
       "<Figure size 648x360 with 1 Axes>"
      ]
     },
     "metadata": {
      "needs_background": "light"
     },
     "output_type": "display_data"
    }
   ],
   "source": [
    "#Exploring sms received\n",
    "SMS_received = df.SMS_received.hist(figsize= (9,5), grid=False, edgecolor=\"black\").set_title('SMS_RECEIVED')\n",
    "plt.xlabel('sms received')\n",
    "plt.ylabel('Number of patients')"
   ]
  },
  {
   "cell_type": "markdown",
   "id": "53d3558d",
   "metadata": {},
   "source": [
    "This data showed that the number of those who didn't receive sms (about 70,000+) is higher than those who did (30,000+)"
   ]
  },
  {
   "cell_type": "markdown",
   "id": "519d80b5",
   "metadata": {},
   "source": [
    "# 1.What is the ratio of patients who showed up to those who did not?"
   ]
  },
  {
   "cell_type": "code",
   "execution_count": 460,
   "id": "d639c7f6",
   "metadata": {},
   "outputs": [
    {
     "data": {
      "text/plain": [
       "(PatientId           51437\n",
       " AppointmentID       51437\n",
       " Gender              51437\n",
       " ScheduledDay        51437\n",
       " AppointmentDay      51437\n",
       " Age                 51437\n",
       " Neighbourhood       51437\n",
       " Scholarship         51437\n",
       " Hypertension        51437\n",
       " Diabetes            51437\n",
       " Alcoholism          51437\n",
       " Handicap            51437\n",
       " SMS_received        51437\n",
       " No_show             51437\n",
       " Time_span           51437\n",
       " Waiting_duration    48373\n",
       " Age_group           51437\n",
       " Week_Day            51437\n",
       " dtype: int64,\n",
       " PatientId           20522\n",
       " AppointmentID       20522\n",
       " Gender              20522\n",
       " ScheduledDay        20522\n",
       " AppointmentDay      20522\n",
       " Age                 20522\n",
       " Neighbourhood       20522\n",
       " Scholarship         20522\n",
       " Hypertension        20522\n",
       " Diabetes            20522\n",
       " Alcoholism          20522\n",
       " Handicap            20522\n",
       " SMS_received        20522\n",
       " No_show             20522\n",
       " Time_span           20522\n",
       " Waiting_duration    19165\n",
       " Age_group           20522\n",
       " Week_Day            20522\n",
       " dtype: int64)"
      ]
     },
     "execution_count": 460,
     "metadata": {},
     "output_type": "execute_result"
    }
   ],
   "source": [
    "#We are going to seperate the patients based on whether they showed up or not\n",
    "show = df.No_show == 'No'\n",
    "noshow = df.No_show == 'Yes'\n",
    "df[show].count(), df[noshow].count()\n"
   ]
  },
  {
   "cell_type": "markdown",
   "id": "0e95596c",
   "metadata": {},
   "source": [
    "The number of patients who showed up (88,207) is greater than the number of those that didn't (22,319)."
   ]
  },
  {
   "cell_type": "markdown",
   "id": "be292125",
   "metadata": {},
   "source": [
    "# 2.Does the gender, regardless of age-group of patients, affect whether they show up or not?"
   ]
  },
  {
   "cell_type": "code",
   "execution_count": 461,
   "id": "1ab28c9b",
   "metadata": {},
   "outputs": [
    {
     "name": "stdout",
     "output_type": "stream",
     "text": [
      "F    48070\n",
      "M    23889\n",
      "Name: Gender, dtype: int64\n"
     ]
    }
   ],
   "source": [
    "Gender = print(df.Gender.value_counts())\n"
   ]
  },
  {
   "cell_type": "code",
   "execution_count": 462,
   "id": "380594b5",
   "metadata": {},
   "outputs": [
    {
     "data": {
      "image/png": "[encoded data removed]",
      "text/plain": [
       "<Figure size 432x432 with 1 Axes>"
      ]
     },
     "metadata": {},
     "output_type": "display_data"
    }
   ],
   "source": [
    "#pie chart showing the gender (%) of patient per appointment\n",
    "\n",
    "data = [23889, 48070]\n",
    "labels = ['male', 'female']\n",
    "title = 'Pecentage of Age group'\n",
    "plt.figure(figsize= (6,6))\n",
    "plt.title(title)\n",
    "plt.pie(x = data, labels = labels, autopct='%.0f%%')\n",
    "plt.show()"
   ]
  },
  {
   "cell_type": "markdown",
   "id": "8fad4b25",
   "metadata": {},
   "source": [
    "There are more females than males having appointments."
   ]
  },
  {
   "cell_type": "code",
   "execution_count": 463,
   "id": "6fb68728",
   "metadata": {},
   "outputs": [
    {
     "data": {
      "text/plain": [
       "<AxesSubplot:xlabel='Gender', ylabel='count'>"
      ]
     },
     "execution_count": 463,
     "metadata": {},
     "output_type": "execute_result"
    },
    {
     "data": {
      "image/png": "[encoded data removed]",
      "text/plain": [
       "<Figure size 432x288 with 1 Axes>"
      ]
     },
     "metadata": {
      "needs_background": "light"
     },
     "output_type": "display_data"
    }
   ],
   "source": [
    "#Classifying whether patients showed up or not based on gender\n",
    "sns.countplot(data = df, x = 'Gender', hue = 'No_show')"
   ]
  },
  {
   "cell_type": "code",
   "execution_count": 464,
   "id": "eab78fb4",
   "metadata": {},
   "outputs": [
    {
     "name": "stdout",
     "output_type": "stream",
     "text": [
      "F    34396\n",
      "M    17041\n",
      "Name: Gender, dtype: int64\n",
      "F    13674\n",
      "M     6848\n",
      "Name: Gender, dtype: int64\n"
     ]
    }
   ],
   "source": [
    "#Classifying whether patients showed up or not based on gender\n",
    "print(df.Gender[show].value_counts())\n",
    "print(df.Gender[noshow].value_counts())"
   ]
  },
  {
   "cell_type": "markdown",
   "id": "3e2af7ea",
   "metadata": {},
   "source": [
    "Looking at the data above, I can infer that the proportion of appointments where female patients showed up is greater than the number of appointments where male patients showed up. According to the graph above, women are more concious about their health regardless of the age group.\n"
   ]
  },
  {
   "cell_type": "markdown",
   "id": "474725dd",
   "metadata": {},
   "source": [
    "# 3.Does the age-group affect response to appointments?"
   ]
  },
  {
   "cell_type": "code",
   "execution_count": 465,
   "id": "b425c79c",
   "metadata": {},
   "outputs": [
    {
     "name": "stdout",
     "output_type": "stream",
     "text": [
      "41-60      20324\n",
      "21-40      18789\n",
      "0-20       17995\n",
      "61-80      12568\n",
      "81-100      2274\n",
      "101-120        9\n",
      "Name: Age_group, dtype: int64\n"
     ]
    }
   ],
   "source": [
    "Age_group = print(df.Age_group.value_counts())"
   ]
  },
  {
   "cell_type": "code",
   "execution_count": 466,
   "id": "910f9368",
   "metadata": {},
   "outputs": [
    {
     "data": {
      "image/png": "[encoded data removed]",
      "text/plain": [
       "<Figure size 432x432 with 1 Axes>"
      ]
     },
     "metadata": {},
     "output_type": "display_data"
    }
   ],
   "source": [
    "#pie chart showing the age group (%) of patient per appointment\n",
    "\n",
    "data = [17995, 18389, 20324, 12568, 2274, 9]\n",
    "labels = ['0-20', '21-40', '41-60', '61-80', '81-100', '101-120']\n",
    "title = 'Pecentage of Age group'\n",
    "plt.figure(figsize= (6,6))\n",
    "plt.title(title)\n",
    "plt.pie(x = data, labels = labels, autopct='%.0f%%')\n",
    "plt.show()"
   ]
  },
  {
   "cell_type": "markdown",
   "id": "a0fc0f48",
   "metadata": {},
   "source": [
    "Looking at the above data, the 41-60 age group makes up the highest percentage of patints by appointments while the 101-120 age group makes up the least"
   ]
  },
  {
   "cell_type": "code",
   "execution_count": 467,
   "id": "ac47e9d6",
   "metadata": {},
   "outputs": [
    {
     "data": {
      "text/plain": [
       "<AxesSubplot:xlabel='Age_group', ylabel='count'>"
      ]
     },
     "execution_count": 467,
     "metadata": {},
     "output_type": "execute_result"
    },
    {
     "data": {
      "image/png": "[encoded data removed]",
      "text/plain": [
       "<Figure size 432x288 with 1 Axes>"
      ]
     },
     "metadata": {
      "needs_background": "light"
     },
     "output_type": "display_data"
    }
   ],
   "source": [
    "#Compare those who showed to those who didn't according to their age group\n",
    "plt.figure(figsize= (6,4))\n",
    "sns.countplot(data = df, x = 'Age_group', hue = 'No_show')"
   ]
  },
  {
   "cell_type": "code",
   "execution_count": 468,
   "id": "fe851ecf",
   "metadata": {},
   "outputs": [
    {
     "name": "stdout",
     "output_type": "stream",
     "text": [
      "41-60      14999\n",
      "21-40      12526\n",
      "0-20       12109\n",
      "61-80      10041\n",
      "81-100      1756\n",
      "101-120        6\n",
      "Name: Age_group, dtype: int64\n",
      "21-40      6263\n",
      "0-20       5886\n",
      "41-60      5325\n",
      "61-80      2527\n",
      "81-100      518\n",
      "101-120       3\n",
      "Name: Age_group, dtype: int64\n"
     ]
    }
   ],
   "source": [
    "print(df.Age_group[show].value_counts())\n",
    "print(df.Age_group[noshow].value_counts())"
   ]
  },
  {
   "cell_type": "markdown",
   "id": "9209b6d4",
   "metadata": {},
   "source": [
    "Those in 41-60 age group showed up more than all other age groups, with a population of 14,999 patients. The data also shows that the older they get, the less likely they are to show up for their appointment with only 6 patients showing up for their appointments in the 101-120 age group."
   ]
  },
  {
   "cell_type": "markdown",
   "id": "bb71847a",
   "metadata": {},
   "source": [
    "# 4.Does the patient being in the scholarship program affect response to appointments?"
   ]
  },
  {
   "cell_type": "code",
   "execution_count": 469,
   "id": "1c484dd3",
   "metadata": {
    "scrolled": true
   },
   "outputs": [
    {
     "name": "stdout",
     "output_type": "stream",
     "text": [
      "0    65288\n",
      "1     6671\n",
      "Name: Scholarship, dtype: int64\n"
     ]
    }
   ],
   "source": [
    "Scholarship = print(df.Scholarship.value_counts())\n"
   ]
  },
  {
   "cell_type": "markdown",
   "id": "1a21b418",
   "metadata": {},
   "source": [
    "This data show that 99,665 have no scholarship but 10,861 do."
   ]
  },
  {
   "cell_type": "code",
   "execution_count": 470,
   "id": "47af7d7f",
   "metadata": {},
   "outputs": [
    {
     "data": {
      "image/png": "[encoded data removed]",
      "text/plain": [
       "<Figure size 432x432 with 1 Axes>"
      ]
     },
     "metadata": {},
     "output_type": "display_data"
    }
   ],
   "source": [
    "#pie chart showing the scholarship (%) of patient per appointment\n",
    "\n",
    "data = [10861, 99665]\n",
    "labels = ['Scholarship', 'No scholarship']\n",
    "title = 'Pecentage of Age group'\n",
    "plt.figure(figsize= (6,6))\n",
    "plt.title(title)\n",
    "plt.pie(x = data, labels = labels, autopct='%.0f%%')\n",
    "plt.show()"
   ]
  },
  {
   "cell_type": "markdown",
   "id": "d8c50192",
   "metadata": {},
   "source": [
    "Looking at the chart above, I see that 90% of the patients don't have a scholarship, where as only 10% of the patients have been granted a scholarship."
   ]
  },
  {
   "cell_type": "code",
   "execution_count": 471,
   "id": "44b462db",
   "metadata": {
    "scrolled": true
   },
   "outputs": [
    {
     "data": {
      "text/plain": [
       "<AxesSubplot:xlabel='Scholarship', ylabel='count'>"
      ]
     },
     "execution_count": 471,
     "metadata": {},
     "output_type": "execute_result"
    },
    {
     "data": {
      "image/png": "[encoded data removed]",
      "text/plain": [
       "<Figure size 432x288 with 1 Axes>"
      ]
     },
     "metadata": {
      "needs_background": "light"
     },
     "output_type": "display_data"
    }
   ],
   "source": [
    "#classifying whether patients showed up or not based on scholarship\n",
    "plt.figure(figsize= (6,4))\n",
    "sns.countplot(data = df, x = 'Scholarship', hue = 'No_show')"
   ]
  },
  {
   "cell_type": "code",
   "execution_count": 472,
   "id": "7e358f95",
   "metadata": {},
   "outputs": [
    {
     "name": "stdout",
     "output_type": "stream",
     "text": [
      "0    47099\n",
      "1     4338\n",
      "Name: Scholarship, dtype: int64\n",
      "0    18189\n",
      "1     2333\n",
      "Name: Scholarship, dtype: int64\n"
     ]
    }
   ],
   "source": [
    "print(df.Scholarship[show].value_counts())\n",
    "print(df.Scholarship[noshow].value_counts())"
   ]
  },
  {
   "cell_type": "markdown",
   "id": "6f818607",
   "metadata": {},
   "source": [
    "Looking at the chart above, it can be seen that the appointments that belongs to patients with no scholarship (47,099 of the total population) have the highest show-up rate, where as those with scholarships have a lower show-up rate (18,189 of the total population). So, scholarship did not encourage the number of people attending their appointments regardless of their age or gender.\n"
   ]
  },
  {
   "cell_type": "markdown",
   "id": "1158a0c7",
   "metadata": {},
   "source": [
    "# 5.Does hypertension and diabetes, when compared with patients mean age, affect response to appointments?"
   ]
  },
  {
   "cell_type": "code",
   "execution_count": 473,
   "id": "1b6f282f",
   "metadata": {},
   "outputs": [
    {
     "data": {
      "image/png": "[encoded data removed]",
      "text/plain": [
       "<Figure size 1152x288 with 1 Axes>"
      ]
     },
     "metadata": {
      "needs_background": "light"
     },
     "output_type": "display_data"
    }
   ],
   "source": [
    "#Compare those who showed to those who have hypertension and diabetes by their mean age\n",
    "plt.figure(figsize=(16, 4))\n",
    "df[show].groupby(['Hypertension', 'Diabetes']).mean()['Age'].plot(kind = 'bar', color='blue', label='show')\n",
    "df[noshow].groupby(['Hypertension', 'Diabetes']).mean()['Age'].plot(kind = 'bar', color='red', label='noshow')\n",
    "\n",
    "plt.legend();\n",
    "plt.title('Comparing those who showed to those who did not according to mean age and hypertension and diabetes')\n",
    "plt.ylabel('Patients number');\n",
    "plt.xlabel('Hypertension and Diabetes')\n",
    "plt.show()"
   ]
  },
  {
   "cell_type": "code",
   "execution_count": 474,
   "id": "ef0f0755",
   "metadata": {},
   "outputs": [
    {
     "data": {
      "text/plain": [
       "(Hypertension  Diabetes\n",
       " 0             0           33.505135\n",
       "               1           54.271307\n",
       " 1             0           60.213595\n",
       "               1           63.411588\n",
       " Name: Age, dtype: float64,\n",
       " Hypertension  Diabetes\n",
       " 0             0           29.291622\n",
       "               1           49.666667\n",
       " 1             0           58.474089\n",
       "               1           63.121951\n",
       " Name: Age, dtype: float64)"
      ]
     },
     "execution_count": 474,
     "metadata": {},
     "output_type": "execute_result"
    }
   ],
   "source": [
    "df[show].groupby(['Hypertension', 'Diabetes']).mean()['Age'], df[noshow].groupby(['Hypertension', 'Diabetes']).mean()['Age']"
   ]
  },
  {
   "cell_type": "markdown",
   "id": "965549b8",
   "metadata": {},
   "source": [
    "The mean age of showing people not having hypertension and diabetes is 33 and of those who did not show up is 29. Hypertensive-diabetic showing and non-showing patients is around 63. This data analysis shows us that there is a correlation between age and hypertension and diabetes but having diabetes and hypertension does not influence the attendance rate."
   ]
  },
  {
   "cell_type": "markdown",
   "id": "60805664",
   "metadata": {},
   "source": [
    "# 5.Does alcoholism and handicap, when compared with patients mean age, affect response to appointments?"
   ]
  },
  {
   "cell_type": "code",
   "execution_count": 475,
   "id": "52fbe040",
   "metadata": {},
   "outputs": [
    {
     "data": {
      "image/png": "[encoded data removed]",
      "text/plain": [
       "<Figure size 1152x288 with 1 Axes>"
      ]
     },
     "metadata": {
      "needs_background": "light"
     },
     "output_type": "display_data"
    }
   ],
   "source": [
    "#Compare those who showed to those who have alcoholism and handicap by their mean age\n",
    "plt.figure(figsize=(16, 4))\n",
    "df[show].groupby(['Alcoholism', 'Handicap']).mean()['Age'].plot(kind = 'bar', color='blue', label='show')\n",
    "df[noshow].groupby(['Alcoholism', 'Handicap']).mean()['Age'].plot(kind = 'bar', color='red', label='noshow')\n",
    "\n",
    "plt.legend();\n",
    "plt.title('Comparing those who showed to those who did not according to mean age and alcoholism and handicap')\n",
    "plt.ylabel('Patients number');\n",
    "plt.xlabel('Alcoholism and Handicap')\n",
    "plt.show()"
   ]
  },
  {
   "cell_type": "code",
   "execution_count": 476,
   "id": "0d0564d0",
   "metadata": {},
   "outputs": [
    {
     "data": {
      "text/plain": [
       "(Alcoholism  Handicap\n",
       " 0           0           39.443696\n",
       "             1           53.563380\n",
       "             2           45.236842\n",
       "             3           28.666667\n",
       "             4           19.000000\n",
       " 1           0           51.265517\n",
       "             1           55.527778\n",
       "             2           64.000000\n",
       "             3           70.000000\n",
       " Name: Age, dtype: float64,\n",
       " Alcoholism  Handicap\n",
       " 0           0           34.167143\n",
       "             1           51.772414\n",
       "             2           56.843750\n",
       "             3           11.000000\n",
       "             4            9.000000\n",
       " 1           0           46.872549\n",
       "             1           52.000000\n",
       "             2           60.000000\n",
       " Name: Age, dtype: float64)"
      ]
     },
     "execution_count": 476,
     "metadata": {},
     "output_type": "execute_result"
    }
   ],
   "source": [
    "df[show].groupby(['Alcoholism', 'Handicap']).mean()['Age'], df[noshow].groupby(['Alcoholism', 'Handicap']).mean()['Age']"
   ]
  },
  {
   "cell_type": "markdown",
   "id": "5f967547",
   "metadata": {},
   "source": [
    "The mean age of showing people not having alcoholism and disability is 39 and of those who did not show up is 34. Alcoholic-handicap showing patient is 55 and non-showing patients is around 52. This data analysis shows us that there is a correlation between age and hypertension and disabilities but having disabilites and alcoholism does not influence the attendance rate."
   ]
  },
  {
   "cell_type": "markdown",
   "id": "88ead576",
   "metadata": {},
   "source": [
    "# 7.Does the neighbourhood affect response to appointments?"
   ]
  },
  {
   "cell_type": "code",
   "execution_count": 477,
   "id": "678a1653",
   "metadata": {},
   "outputs": [
    {
     "name": "stdout",
     "output_type": "stream",
     "text": [
      "JARDIM CAMBURI                 5213\n",
      "MARIA ORTIZ                    3730\n",
      "RESISTÊNCIA                    2818\n",
      "JARDIM DA PENHA                2655\n",
      "ITARARÉ                        2381\n",
      "                               ... \n",
      "PONTAL DE CAMBURI                41\n",
      "ILHA DO BOI                      23\n",
      "ILHA DO FRADE                     8\n",
      "AEROPORTO                         5\n",
      "ILHAS OCEÂNICAS DE TRINDADE       2\n",
      "Name: Neighbourhood, Length: 80, dtype: int64\n"
     ]
    }
   ],
   "source": [
    "Neighbourhood = print(df.Neighbourhood.value_counts())"
   ]
  },
  {
   "cell_type": "code",
   "execution_count": 478,
   "id": "8304ce7b",
   "metadata": {},
   "outputs": [
    {
     "data": {
      "image/png": "[encoded data removed]",
      "text/plain": [
       "<Figure size 1080x432 with 1 Axes>"
      ]
     },
     "metadata": {
      "needs_background": "light"
     },
     "output_type": "display_data"
    }
   ],
   "source": [
    "#classifying whether patients showed up or not based on neighbourhood\n",
    "plt.figure(figsize=(15, 6))\n",
    "df.Neighbourhood[noshow].value_counts().plot (kind = 'bar', alpha = 0.5, color='blue', label='noshow')\n",
    "df.Neighbourhood[show].value_counts().plot (kind = 'bar', alpha = 0.5, color='orange', label='show')\n",
    "\n",
    "\n",
    "plt.legend()\n",
    "plt.title('Comparing those who showed to those who did not according to their neighbourhood')\n",
    "plt.xlabel('neighbourhood')\n",
    "plt.ylabel('patient number');"
   ]
  },
  {
   "cell_type": "markdown",
   "id": "fd9c7303",
   "metadata": {},
   "source": [
    "Based on the analysis above, I found that the proportion of appointments where patients are based Jardim Camburi is the largest among other neighbourhoods and it also has the greatest showing rate compared to others. Neighbourhood has a great effect on attendance. \n"
   ]
  },
  {
   "cell_type": "markdown",
   "id": "69fb56e1",
   "metadata": {},
   "source": [
    "# 8.Does the sms received affect response to appointments?"
   ]
  },
  {
   "cell_type": "code",
   "execution_count": 479,
   "id": "f256ddf9",
   "metadata": {},
   "outputs": [
    {
     "name": "stdout",
     "output_type": "stream",
     "text": [
      "0    36477\n",
      "1    35482\n",
      "Name: SMS_received, dtype: int64\n"
     ]
    }
   ],
   "source": [
    "SMS_received = print(df.SMS_received.value_counts())"
   ]
  },
  {
   "cell_type": "markdown",
   "id": "119b2bf1",
   "metadata": {},
   "source": [
    "only 35482 received sms"
   ]
  },
  {
   "cell_type": "code",
   "execution_count": 480,
   "id": "521eacdc",
   "metadata": {},
   "outputs": [
    {
     "data": {
      "image/png": "[encoded data removed]",
      "text/plain": [
       "<Figure size 432x432 with 1 Axes>"
      ]
     },
     "metadata": {},
     "output_type": "display_data"
    }
   ],
   "source": [
    "#pie chart showing the sms (%) per appointment\n",
    "\n",
    "data = [35482, 75044]\n",
    "labels = ['sms', 'No sms']\n",
    "title = 'Pecentage of patients with sms received'\n",
    "plt.figure(figsize= (6,6))\n",
    "plt.title(title)\n",
    "plt.pie(x = data, labels = labels, autopct='%.0f%%')\n",
    "plt.show()"
   ]
  },
  {
   "cell_type": "markdown",
   "id": "88843f22",
   "metadata": {},
   "source": [
    "Looking at the chart above, the appointment proportion where patients didn't receive an SMS is 68%, where the proportion of appointments where patients received an SMS is 32%"
   ]
  },
  {
   "cell_type": "code",
   "execution_count": 481,
   "id": "0d83546d",
   "metadata": {},
   "outputs": [
    {
     "data": {
      "text/plain": [
       "<AxesSubplot:xlabel='SMS_received', ylabel='count'>"
      ]
     },
     "execution_count": 481,
     "metadata": {},
     "output_type": "execute_result"
    },
    {
     "data": {
      "image/png": "[encoded data removed]",
      "text/plain": [
       "<Figure size 432x288 with 1 Axes>"
      ]
     },
     "metadata": {
      "needs_background": "light"
     },
     "output_type": "display_data"
    }
   ],
   "source": [
    "#classifying whether patients showed up or not based on sms received\n",
    "plt.figure(figsize= (6,4))\n",
    "sns.countplot(data = df, x = 'SMS_received', hue = 'No_show')"
   ]
  },
  {
   "cell_type": "markdown",
   "id": "f36ad57b",
   "metadata": {},
   "source": [
    "Based on the initial analysis above, I discovered that the show-up rate of patients who didn't receive an SMS reminder is the highest, where as the show-up rate of patients who received an SMS reminder is lower. It seems like the sms campaign needs to be re-examined."
   ]
  },
  {
   "cell_type": "markdown",
   "id": "bf3d9003",
   "metadata": {},
   "source": [
    "# 9 Does the reltionship between sms received and neighbourhood affect response to appointments?"
   ]
  },
  {
   "cell_type": "code",
   "execution_count": 482,
   "id": "763f9093",
   "metadata": {},
   "outputs": [
    {
     "data": {
      "image/png": "[encoded data removed]",
      "text/plain": [
       "<Figure size 1152x288 with 1 Axes>"
      ]
     },
     "metadata": {
      "needs_background": "light"
     },
     "output_type": "display_data"
    }
   ],
   "source": [
    "#compare those who showed to those who didn't according to their neighbourhood and receiving sms\n",
    "plt.figure(figsize=(16, 4))\n",
    "df[show].groupby(['Neighbourhood']).mean()['SMS_received'].plot(kind='bar', color='blue', grid=False, edgecolor=\"black\", label='show')\n",
    "df[noshow].groupby(['Neighbourhood']).mean()['SMS_received'].plot(kind='bar', color='pink', grid=False, edgecolor=\"black\", label='noshow')\n",
    "\n",
    "\n",
    "plt.legend();\n",
    "plt.title('Comparing those who showed to those who did not according to their neighbourhood and sms received')\n",
    "plt.xlabel('neighbourhood')\n",
    "plt.ylabel('patient number');"
   ]
  },
  {
   "cell_type": "markdown",
   "id": "b4479dec",
   "metadata": {},
   "source": [
    "Based on the initial analysis above, I discovered that sms campaign has postive results from five neighbourhoods (Aeroporto, Ilha Do Frade, Ilhas Oceanicas de Trinidade, Monte Belo and Mario cypreste), with Ilha Do Frade, having the most positive response."
   ]
  },
  {
   "cell_type": "markdown",
   "id": "466409a5",
   "metadata": {},
   "source": [
    "# 10.Does the day of the week affect the response to treatment?"
   ]
  },
  {
   "cell_type": "code",
   "execution_count": 483,
   "id": "0a6d754b",
   "metadata": {},
   "outputs": [
    {
     "name": "stdout",
     "output_type": "stream",
     "text": [
      "Wednesday    17044\n",
      "Tuesday      16462\n",
      "Monday       14581\n",
      "Friday       12516\n",
      "Thursday     11325\n",
      "Saturday        31\n",
      "Name: Week_Day, dtype: int64\n"
     ]
    }
   ],
   "source": [
    "Week_Day = print(df.Week_Day.value_counts())"
   ]
  },
  {
   "cell_type": "code",
   "execution_count": 484,
   "id": "b439357e",
   "metadata": {},
   "outputs": [
    {
     "data": {
      "image/png": "[encoded data removed]",
      "text/plain": [
       "<Figure size 432x432 with 1 Axes>"
      ]
     },
     "metadata": {},
     "output_type": "display_data"
    }
   ],
   "source": [
    "#pie chart showing the week day (%) per appointment\n",
    "\n",
    "data = [14581, 16462, 17044, 11325, 12516, 31]\n",
    "labels = ['Monday', 'Tuesday', 'Wednesday', 'Thursday', 'Friday', 'Saturday']\n",
    "title = 'Pecentage of patients with the day of the week'\n",
    "plt.figure(figsize= (6,6))\n",
    "plt.title(title)\n",
    "plt.pie(x = data, labels = labels, autopct='%.0f%%')\n",
    "plt.show()"
   ]
  },
  {
   "cell_type": "markdown",
   "id": "fd45be1a",
   "metadata": {},
   "source": [
    "Looking at the data above, the highest amount of appointments is on a Wednesday, while the lowest is on a Saturday."
   ]
  },
  {
   "cell_type": "code",
   "execution_count": 485,
   "id": "e28e42ce",
   "metadata": {},
   "outputs": [
    {
     "data": {
      "text/plain": [
       "<AxesSubplot:xlabel='Week_Day', ylabel='count'>"
      ]
     },
     "execution_count": 485,
     "metadata": {},
     "output_type": "execute_result"
    },
    {
     "data": {
      "image/png": "[encoded data removed]",
      "text/plain": [
       "<Figure size 432x288 with 1 Axes>"
      ]
     },
     "metadata": {
      "needs_background": "light"
     },
     "output_type": "display_data"
    }
   ],
   "source": [
    "#classifying whether patients showed up or not based on week day\n",
    "plt.figure(figsize= (6,4))\n",
    "sns.countplot(data = df, x = 'Week_Day', hue = 'No_show')"
   ]
  },
  {
   "cell_type": "code",
   "execution_count": 486,
   "id": "a78a66bf",
   "metadata": {},
   "outputs": [
    {
     "name": "stdout",
     "output_type": "stream",
     "text": [
      "Wednesday    12417\n",
      "Tuesday      11743\n",
      "Monday       10176\n",
      "Friday        8842\n",
      "Thursday      8237\n",
      "Saturday        22\n",
      "Name: Week_Day, dtype: int64\n",
      "Tuesday      4719\n",
      "Wednesday    4627\n",
      "Monday       4405\n",
      "Friday       3674\n",
      "Thursday     3088\n",
      "Saturday        9\n",
      "Name: Week_Day, dtype: int64\n"
     ]
    }
   ],
   "source": [
    "print(df.Week_Day[show].value_counts())\n",
    "print(df.Week_Day[noshow].value_counts())"
   ]
  },
  {
   "cell_type": "markdown",
   "id": "d3ec5735",
   "metadata": {},
   "source": [
    "The show-up rate of patients who were scheduled to come on a Wednesday is the highest with 12,417 patients, while the show-up rate of patients who were scheduled to come on a Saturday is the lowest with 22 patients. The show up rates gradually decresed as it approached the weekend. So, the day of the week affects whether the patients shows up or not."
   ]
  },
  {
   "cell_type": "markdown",
   "id": "62100b7f",
   "metadata": {},
   "source": [
    "# 11. Does the waiting duration between the schedule date and appointment date affect response to treatment"
   ]
  },
  {
   "cell_type": "code",
   "execution_count": 487,
   "id": "a55e1075",
   "metadata": {},
   "outputs": [
    {
     "name": "stdout",
     "output_type": "stream",
     "text": [
      "0-7      32185\n",
      "8-14     12025\n",
      "15-21     8874\n",
      "22-28     6704\n",
      "29-35     5486\n",
      "36-42     2264\n",
      "Name: Waiting_duration, dtype: int64\n"
     ]
    }
   ],
   "source": [
    "Waiting_duration = print(df.Waiting_duration.value_counts())"
   ]
  },
  {
   "cell_type": "code",
   "execution_count": 488,
   "id": "b8893e0b",
   "metadata": {},
   "outputs": [
    {
     "data": {
      "image/png": "[encoded data removed]",
      "text/plain": [
       "<Figure size 432x432 with 1 Axes>"
      ]
     },
     "metadata": {},
     "output_type": "display_data"
    }
   ],
   "source": [
    "#pie chart showing the waiting duration (%) per appointment\n",
    "\n",
    "data = [32185, 12025, 8874, 6704, 5486, 2264]\n",
    "labels = ['0-7','8-14','15-21','22-28','29-35', '36-42']\n",
    "title = 'Pecentage of patients with the waiting duration'\n",
    "plt.figure(figsize= (6,6))\n",
    "plt.title(title)\n",
    "plt.pie(x = data, labels = labels, autopct='%.0f%%')\n",
    "plt.show()"
   ]
  },
  {
   "cell_type": "markdown",
   "id": "ad42ed63",
   "metadata": {},
   "source": [
    "From the analysis above, the smallest range of the waiting period (1-7)  has the most number of appointments while the appointments were lowest when the waiting period was between 36-42 days. "
   ]
  },
  {
   "cell_type": "code",
   "execution_count": 489,
   "id": "05bca163",
   "metadata": {},
   "outputs": [
    {
     "data": {
      "text/plain": [
       "<AxesSubplot:xlabel='Waiting_duration', ylabel='count'>"
      ]
     },
     "execution_count": 489,
     "metadata": {},
     "output_type": "execute_result"
    },
    {
     "data": {
      "image/png": "[encoded data removed]",
      "text/plain": [
       "<Figure size 432x288 with 1 Axes>"
      ]
     },
     "metadata": {
      "needs_background": "light"
     },
     "output_type": "display_data"
    }
   ],
   "source": [
    "#classifying whether patients showed up or not based on Waiting duration\n",
    "plt.figure(figsize= (6,4))\n",
    "sns.countplot(data = df, x = 'Waiting_duration', hue = 'No_show')"
   ]
  },
  {
   "cell_type": "code",
   "execution_count": 490,
   "id": "09b150b8",
   "metadata": {},
   "outputs": [
    {
     "name": "stdout",
     "output_type": "stream",
     "text": [
      "0-7      24413\n",
      "8-14      8361\n",
      "15-21     6013\n",
      "22-28     4447\n",
      "29-35     3666\n",
      "36-42     1473\n",
      "Name: Waiting_duration, dtype: int64\n",
      "0-7      7772\n",
      "8-14     3664\n",
      "15-21    2861\n",
      "22-28    2257\n",
      "29-35    1820\n",
      "36-42     791\n",
      "Name: Waiting_duration, dtype: int64\n"
     ]
    }
   ],
   "source": [
    "print(df.Waiting_duration[show].value_counts())\n",
    "print(df.Waiting_duration[noshow].value_counts())"
   ]
  },
  {
   "cell_type": "markdown",
   "id": "f4387fac",
   "metadata": {},
   "source": [
    "The show-up rate of patients who had a waiting duration between 0-7 days is the highest with 24,413 in attendance, while the show-up rate of patients who have a waiting duration between 36-42 days is the lowest with 1463 showing up. So the waiting duration has a correlation with patients showing up or not"
   ]
  },
  {
   "cell_type": "markdown",
   "id": "7c74152a",
   "metadata": {},
   "source": [
    "# Conclusion"
   ]
  },
  {
   "cell_type": "markdown",
   "id": "a3922970",
   "metadata": {},
   "source": [
    "* 1. Females showed up to their appointments more than males. So, they are more health conscious. Gender is an important factor in this data analysis.\n",
    "* 2. The neighbourhood is strongly related to the number of patients showing up for their appointments.\n",
    "* 3. The number of persons showing up from specific neighbourhoods are affected by their ages and receiving sms.\n",
    "* 4. More people showed up without receiving sms. So, sms campaign might need to be discontinued.\n",
    "* 5. Age is also important as those in the 41-60 age group were the most to show up.\n",
    "* 6. The waiting period has an effect on attendance because the smaller the duration, the higher the showing up rates.\n",
    "* 7. The data for weekday clearly shows that less people showed up to appointments at the end of the week than at the beggining. A simple strategy to reduce no-shows might be to preferentially load appointments, where practicable, towards the beggining of the week.\n",
    "* 8. There is a relationship between the patients age and having illness like hypertension, diabetes, alcoholism and disabilities"
   ]
  },
  {
   "cell_type": "markdown",
   "id": "40b5fbce",
   "metadata": {},
   "source": [
    "# Problems"
   ]
  },
  {
   "cell_type": "markdown",
   "id": "07a685da",
   "metadata": {},
   "source": [
    "* 1. Other variables, such as the distance of the patient's place of residence to where the appointment was conducted was not included in the dataset and this could helped the analysis to be better. It would have been useful in analysing the data from the distance a patient have to travel in order to show up for their appointments.\n",
    "* 2. There was no relationship between patients response to appointments and variables such as hypertension, diabetes, alcoholism, disabilities and scholarships.\n",
    "* 3. The age values and time span included negative values which created problem in analysing the dataset. As I was not able to obtain a sufficient explanation on why those values were present, I had to exclude the data entries from the original dataset.\n"
   ]
  },
  {
   "cell_type": "code",
   "execution_count": null,
   "id": "18d46b40",
   "metadata": {},
   "outputs": [],
   "source": []
  }
 ],
 "metadata": {
  "kernelspec": {
   "display_name": "Python 3 (ipykernel)",
   "language": "python",
   "name": "python3"
  },
  "language_info": {
   "codemirror_mode": {
    "name": "ipython",
    "version": 3
   },
   "file_extension": ".py",
   "mimetype": "text/x-python",
   "name": "python",
   "nbconvert_exporter": "python",
   "pygments_lexer": "ipython3",
   "version": "3.9.7"
  }
 },
 "nbformat": 4,
 "nbformat_minor": 5
}
