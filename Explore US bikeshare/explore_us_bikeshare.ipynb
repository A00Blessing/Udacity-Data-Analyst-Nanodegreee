{
 "cells": [
  {
   "cell_type": "code",
   "execution_count": 1,
   "id": "8a05def4",
   "metadata": {},
   "outputs": [],
   "source": [
    "import time\n",
    "import pandas as pd\n",
    "import numpy as np\n",
    "\n",
    "CITY_DATA = { 'chicago': 'chicago.csv',\n",
    "              'new york city': 'new_york_city.csv',\n",
    "              'washington': 'washington.csv' }"
   ]
  },
  {
   "cell_type": "code",
   "execution_count": 4,
   "id": "e7d0d02f",
   "metadata": {},
   "outputs": [
    {
     "name": "stdout",
     "output_type": "stream",
     "text": [
      "Please enter a city you want to analyse from washington, new york city and chicago\n",
      "chicago\n",
      "Please specify which month of the year you want to analyze, or type \"all\" to display all months: may\n",
      "Please specify which day of the week you want to analyze, or type \"all\" to display all days: sunday\n"
     ]
    }
   ],
   "source": [
    "available_cities = ['chicago', 'washington', 'new york city']\n",
    "while True:\n",
    "        city = input('Please enter a city you want to analyse from washington, new york city and chicago\\n').lower()\n",
    "        if city in available_cities:\n",
    "            break\n",
    "        else:\n",
    "            print(\"You You entered an invalid month. Choose a corrrect city name\")\n",
    "        \n",
    "while True:\n",
    "    month = input('Please specify which month of the year you want to analyze, or type \"all\" to display all months: ').lower()\n",
    "    month_list = ['january', 'february', 'march', 'april', 'may', 'june', 'july', 'august', 'september', 'october', 'november', 'december'] \n",
    "    if month != 'all' and month not in month_list:\n",
    "        print('You entered an invalid month. Choose a corrrect month name') \n",
    "    else:\n",
    "        break\n",
    "        \n",
    "while True:\n",
    "    day = input('Please specify which day of the week you want to analyze, or type \"all\" to display all days: ').lower()  \n",
    "    day_list = ['monday', 'tuesday', 'wednesday', 'thursday', 'friday', 'saturday', 'sunday']\n",
    "    if day != 'all' and day not in day_list:\n",
    "        print('You entered an invalid day. Choose a corrrect day name') \n",
    "    else:\n",
    "        break"
   ]
  },
  {
   "cell_type": "code",
   "execution_count": 5,
   "id": "3fd3b514",
   "metadata": {},
   "outputs": [],
   "source": [
    "def get_filters():\n",
    "    \"\"\"\n",
    "    Asks user to specify a city, month, and day to analyze.\n",
    "\n",
    "    Returns:\n",
    "        (str) city - name of the city to analyze\n",
    "        (str) month - name of the month to filter by, or \"all\" to apply no month filter\n",
    "        (str) day - name of the day of week to filter by, or \"all\" to apply no day filter\n",
    "    \"\"\"\n",
    "    print('Hello! Let\\'s explore some US bikeshare data!')\n",
    "    # get user input for city (chicago, new york city, washington). HINT: Use a while loop to handle invalid inputs\n",
    "    while True:\n",
    "        city = input('Please enter a city you want to analyse from washington, new york city and chicago\\n').lower()\n",
    "        if city in available_cities:\n",
    "            break\n",
    "        else:\n",
    "            print(\"You You entered an invalid month. Choose a corrrect month name\")\n",
    "        \n",
    "\n",
    "    # get user input for month (all, january, february, ... , december)\n",
    "    while True:\n",
    "        month = input('Please specify which month of the year you want to analyze, or type \"all\" to display all months: ').lower()\n",
    "        month_list = ['january', 'february', 'march', 'april', 'may', 'june', 'july', 'august', 'september', 'october', 'november', 'december'] \n",
    "        if month != 'all' and month not in month_list:\n",
    "            print('You entered an invalid month. Choose a corrrect month name') \n",
    "        else:\n",
    "            break\n",
    "\n",
    "    # get user input for day of week (all, monday, tuesday, ... sunday)\n",
    "    while True:\n",
    "        day = input('Please specify which day of the week you want to analyze, or type \"all\" to display all days: ').lower()  \n",
    "        day_list = ['monday', 'tuesday', 'wednesday', 'thursday', 'friday', 'saturday', 'sunday']\n",
    "        if day != 'all' and day not in day_list:\n",
    "            print('You entered an invalid day. Choose a corrrect day name') \n",
    "        else:\n",
    "            break\n",
    "\n",
    "    print('-'*40)\n",
    "    return city, month, day"
   ]
  },
  {
   "cell_type": "code",
   "execution_count": 6,
   "id": "efcb51ef",
   "metadata": {},
   "outputs": [
    {
     "name": "stdout",
     "output_type": "stream",
     "text": [
      "Hello! Let's explore some US bikeshare data!\n",
      "Please enter a city you want to analyse from washington, new york city and chicago\n",
      "chicago\n",
      "Please specify which month of the year you want to analyze, or type \"all\" to display all months: may\n",
      "Please specify which day of the week you want to analyze, or type \"all\" to display all days: sunday\n",
      "----------------------------------------\n"
     ]
    }
   ],
   "source": [
    "city, month, day = get_filters()"
   ]
  },
  {
   "cell_type": "code",
   "execution_count": 77,
   "id": "649ddb58",
   "metadata": {},
   "outputs": [
    {
     "data": {
      "text/plain": [
       "'chicago'"
      ]
     },
     "execution_count": 77,
     "metadata": {},
     "output_type": "execute_result"
    }
   ],
   "source": [
    "city"
   ]
  },
  {
   "cell_type": "code",
   "execution_count": 78,
   "id": "22c8977c",
   "metadata": {},
   "outputs": [
    {
     "data": {
      "text/plain": [
       "'may'"
      ]
     },
     "execution_count": 78,
     "metadata": {},
     "output_type": "execute_result"
    }
   ],
   "source": [
    "month"
   ]
  },
  {
   "cell_type": "code",
   "execution_count": 79,
   "id": "dbfe0b7b",
   "metadata": {},
   "outputs": [
    {
     "data": {
      "text/plain": [
       "'sunday'"
      ]
     },
     "execution_count": 79,
     "metadata": {},
     "output_type": "execute_result"
    }
   ],
   "source": [
    "day"
   ]
  },
  {
   "cell_type": "code",
   "execution_count": 80,
   "id": "8d7221ec",
   "metadata": {},
   "outputs": [],
   "source": [
    "df = pd.read_csv(CITY_DATA[city])"
   ]
  },
  {
   "cell_type": "code",
   "execution_count": 81,
   "id": "d0693f49",
   "metadata": {},
   "outputs": [],
   "source": [
    "df['Start Time'] = pd.to_datetime(df['Start Time'])"
   ]
  },
  {
   "cell_type": "code",
   "execution_count": 82,
   "id": "094619c8",
   "metadata": {},
   "outputs": [],
   "source": [
    "df['Month'] = df['Start Time'].dt.month"
   ]
  },
  {
   "cell_type": "code",
   "execution_count": 83,
   "id": "7886c828",
   "metadata": {},
   "outputs": [],
   "source": [
    "df['day_of_week'] = df['Start Time'].dt.day_name()"
   ]
  },
  {
   "cell_type": "code",
   "execution_count": 84,
   "id": "d028afd9",
   "metadata": {},
   "outputs": [
    {
     "data": {
      "text/html": [
       "<div>\n",
       "<style scoped>\n",
       "    .dataframe tbody tr th:only-of-type {\n",
       "        vertical-align: middle;\n",
       "    }\n",
       "\n",
       "    .dataframe tbody tr th {\n",
       "        vertical-align: top;\n",
       "    }\n",
       "\n",
       "    .dataframe thead th {\n",
       "        text-align: right;\n",
       "    }\n",
       "</style>\n",
       "<table border=\"1\" class=\"dataframe\">\n",
       "  <thead>\n",
       "    <tr style=\"text-align: right;\">\n",
       "      <th></th>\n",
       "      <th>Unnamed: 0</th>\n",
       "      <th>Start Time</th>\n",
       "      <th>End Time</th>\n",
       "      <th>Trip Duration</th>\n",
       "      <th>Start Station</th>\n",
       "      <th>End Station</th>\n",
       "      <th>User Type</th>\n",
       "      <th>Gender</th>\n",
       "      <th>Birth Year</th>\n",
       "      <th>Month</th>\n",
       "      <th>day_of_week</th>\n",
       "    </tr>\n",
       "  </thead>\n",
       "  <tbody>\n",
       "    <tr>\n",
       "      <th>1</th>\n",
       "      <td>955915</td>\n",
       "      <td>2017-05-25 18:19:03</td>\n",
       "      <td>2017-05-25 18:45:53</td>\n",
       "      <td>1610</td>\n",
       "      <td>Theater on the Lake</td>\n",
       "      <td>Sheffield Ave &amp; Waveland Ave</td>\n",
       "      <td>Subscriber</td>\n",
       "      <td>Female</td>\n",
       "      <td>1992.0</td>\n",
       "      <td>5</td>\n",
       "      <td>Thursday</td>\n",
       "    </tr>\n",
       "    <tr>\n",
       "      <th>6</th>\n",
       "      <td>961916</td>\n",
       "      <td>2017-05-26 09:41:44</td>\n",
       "      <td>2017-05-26 09:46:25</td>\n",
       "      <td>281</td>\n",
       "      <td>Ashland Ave &amp; Lake St</td>\n",
       "      <td>Wood St &amp; Hubbard St</td>\n",
       "      <td>Subscriber</td>\n",
       "      <td>Female</td>\n",
       "      <td>1983.0</td>\n",
       "      <td>5</td>\n",
       "      <td>Friday</td>\n",
       "    </tr>\n",
       "    <tr>\n",
       "      <th>13</th>\n",
       "      <td>1023296</td>\n",
       "      <td>2017-05-30 15:46:18</td>\n",
       "      <td>2017-05-30 15:52:12</td>\n",
       "      <td>354</td>\n",
       "      <td>Larrabee St &amp; Kingsbury St</td>\n",
       "      <td>Clark St &amp; Elm St</td>\n",
       "      <td>Subscriber</td>\n",
       "      <td>Male</td>\n",
       "      <td>1985.0</td>\n",
       "      <td>5</td>\n",
       "      <td>Tuesday</td>\n",
       "    </tr>\n",
       "    <tr>\n",
       "      <th>15</th>\n",
       "      <td>958716</td>\n",
       "      <td>2017-05-25 22:59:33</td>\n",
       "      <td>2017-05-25 23:07:19</td>\n",
       "      <td>466</td>\n",
       "      <td>Clark St &amp; Armitage Ave</td>\n",
       "      <td>Sheffield Ave &amp; Wrightwood Ave</td>\n",
       "      <td>Subscriber</td>\n",
       "      <td>Female</td>\n",
       "      <td>1985.0</td>\n",
       "      <td>5</td>\n",
       "      <td>Thursday</td>\n",
       "    </tr>\n",
       "    <tr>\n",
       "      <th>16</th>\n",
       "      <td>718598</td>\n",
       "      <td>2017-05-03 13:20:38</td>\n",
       "      <td>2017-05-03 13:31:13</td>\n",
       "      <td>635</td>\n",
       "      <td>Ada St &amp; Washington Blvd</td>\n",
       "      <td>Daley Center Plaza</td>\n",
       "      <td>Subscriber</td>\n",
       "      <td>Male</td>\n",
       "      <td>1967.0</td>\n",
       "      <td>5</td>\n",
       "      <td>Wednesday</td>\n",
       "    </tr>\n",
       "  </tbody>\n",
       "</table>\n",
       "</div>"
      ],
      "text/plain": [
       "    Unnamed: 0          Start Time             End Time  Trip Duration  \\\n",
       "1       955915 2017-05-25 18:19:03  2017-05-25 18:45:53           1610   \n",
       "6       961916 2017-05-26 09:41:44  2017-05-26 09:46:25            281   \n",
       "13     1023296 2017-05-30 15:46:18  2017-05-30 15:52:12            354   \n",
       "15      958716 2017-05-25 22:59:33  2017-05-25 23:07:19            466   \n",
       "16      718598 2017-05-03 13:20:38  2017-05-03 13:31:13            635   \n",
       "\n",
       "                 Start Station                     End Station   User Type  \\\n",
       "1          Theater on the Lake    Sheffield Ave & Waveland Ave  Subscriber   \n",
       "6        Ashland Ave & Lake St            Wood St & Hubbard St  Subscriber   \n",
       "13  Larrabee St & Kingsbury St               Clark St & Elm St  Subscriber   \n",
       "15     Clark St & Armitage Ave  Sheffield Ave & Wrightwood Ave  Subscriber   \n",
       "16    Ada St & Washington Blvd              Daley Center Plaza  Subscriber   \n",
       "\n",
       "    Gender  Birth Year  Month day_of_week  \n",
       "1   Female      1992.0      5    Thursday  \n",
       "6   Female      1983.0      5      Friday  \n",
       "13    Male      1985.0      5     Tuesday  \n",
       "15  Female      1985.0      5    Thursday  \n",
       "16    Male      1967.0      5   Wednesday  "
      ]
     },
     "execution_count": 84,
     "metadata": {},
     "output_type": "execute_result"
    }
   ],
   "source": [
    "if month != 'all':\n",
    "    month_list = ['january', 'february', 'march', 'april', 'may', 'june', 'july', 'august', 'september', 'october', 'november', 'december' ]\n",
    "    month = month_list.index(month) + 1\n",
    "    df = df.loc[df['Month'] == month]\n",
    "df.head() "
   ]
  },
  {
   "cell_type": "code",
   "execution_count": 85,
   "id": "077c3143",
   "metadata": {},
   "outputs": [
    {
     "data": {
      "text/html": [
       "<div>\n",
       "<style scoped>\n",
       "    .dataframe tbody tr th:only-of-type {\n",
       "        vertical-align: middle;\n",
       "    }\n",
       "\n",
       "    .dataframe tbody tr th {\n",
       "        vertical-align: top;\n",
       "    }\n",
       "\n",
       "    .dataframe thead th {\n",
       "        text-align: right;\n",
       "    }\n",
       "</style>\n",
       "<table border=\"1\" class=\"dataframe\">\n",
       "  <thead>\n",
       "    <tr style=\"text-align: right;\">\n",
       "      <th></th>\n",
       "      <th>Unnamed: 0</th>\n",
       "      <th>Start Time</th>\n",
       "      <th>End Time</th>\n",
       "      <th>Trip Duration</th>\n",
       "      <th>Start Station</th>\n",
       "      <th>End Station</th>\n",
       "      <th>User Type</th>\n",
       "      <th>Gender</th>\n",
       "      <th>Birth Year</th>\n",
       "      <th>Month</th>\n",
       "      <th>day_of_week</th>\n",
       "    </tr>\n",
       "  </thead>\n",
       "  <tbody>\n",
       "    <tr>\n",
       "      <th>48</th>\n",
       "      <td>906322</td>\n",
       "      <td>2017-05-21 10:03:55</td>\n",
       "      <td>2017-05-21 10:18:17</td>\n",
       "      <td>862</td>\n",
       "      <td>McClurg Ct &amp; Illinois St</td>\n",
       "      <td>McClurg Ct &amp; Illinois St</td>\n",
       "      <td>Subscriber</td>\n",
       "      <td>Male</td>\n",
       "      <td>1990.0</td>\n",
       "      <td>5</td>\n",
       "      <td>Sunday</td>\n",
       "    </tr>\n",
       "    <tr>\n",
       "      <th>59</th>\n",
       "      <td>750957</td>\n",
       "      <td>2017-05-07 11:14:27</td>\n",
       "      <td>2017-05-07 11:20:55</td>\n",
       "      <td>388</td>\n",
       "      <td>McClurg Ct &amp; Illinois St</td>\n",
       "      <td>Rush St &amp; Superior St</td>\n",
       "      <td>Subscriber</td>\n",
       "      <td>Female</td>\n",
       "      <td>1987.0</td>\n",
       "      <td>5</td>\n",
       "      <td>Sunday</td>\n",
       "    </tr>\n",
       "    <tr>\n",
       "      <th>156</th>\n",
       "      <td>994753</td>\n",
       "      <td>2017-05-28 17:34:53</td>\n",
       "      <td>2017-05-28 17:51:32</td>\n",
       "      <td>999</td>\n",
       "      <td>Halsted St &amp; Roscoe St</td>\n",
       "      <td>Broadway &amp; Ridge Ave</td>\n",
       "      <td>Subscriber</td>\n",
       "      <td>Male</td>\n",
       "      <td>1970.0</td>\n",
       "      <td>5</td>\n",
       "      <td>Sunday</td>\n",
       "    </tr>\n",
       "    <tr>\n",
       "      <th>159</th>\n",
       "      <td>823105</td>\n",
       "      <td>2017-05-14 07:14:56</td>\n",
       "      <td>2017-05-14 07:19:35</td>\n",
       "      <td>279</td>\n",
       "      <td>Greenwood Ave &amp; 47th St</td>\n",
       "      <td>Cottage Grove Ave &amp; 47th St</td>\n",
       "      <td>Subscriber</td>\n",
       "      <td>Male</td>\n",
       "      <td>1966.0</td>\n",
       "      <td>5</td>\n",
       "      <td>Sunday</td>\n",
       "    </tr>\n",
       "    <tr>\n",
       "      <th>241</th>\n",
       "      <td>832285</td>\n",
       "      <td>2017-05-14 17:55:22</td>\n",
       "      <td>2017-05-14 18:14:10</td>\n",
       "      <td>1128</td>\n",
       "      <td>Green St &amp; Randolph St</td>\n",
       "      <td>Clark St &amp; Schiller St</td>\n",
       "      <td>Subscriber</td>\n",
       "      <td>Female</td>\n",
       "      <td>1985.0</td>\n",
       "      <td>5</td>\n",
       "      <td>Sunday</td>\n",
       "    </tr>\n",
       "  </tbody>\n",
       "</table>\n",
       "</div>"
      ],
      "text/plain": [
       "     Unnamed: 0          Start Time             End Time  Trip Duration  \\\n",
       "48       906322 2017-05-21 10:03:55  2017-05-21 10:18:17            862   \n",
       "59       750957 2017-05-07 11:14:27  2017-05-07 11:20:55            388   \n",
       "156      994753 2017-05-28 17:34:53  2017-05-28 17:51:32            999   \n",
       "159      823105 2017-05-14 07:14:56  2017-05-14 07:19:35            279   \n",
       "241      832285 2017-05-14 17:55:22  2017-05-14 18:14:10           1128   \n",
       "\n",
       "                Start Station                  End Station   User Type  \\\n",
       "48   McClurg Ct & Illinois St     McClurg Ct & Illinois St  Subscriber   \n",
       "59   McClurg Ct & Illinois St        Rush St & Superior St  Subscriber   \n",
       "156    Halsted St & Roscoe St         Broadway & Ridge Ave  Subscriber   \n",
       "159   Greenwood Ave & 47th St  Cottage Grove Ave & 47th St  Subscriber   \n",
       "241    Green St & Randolph St       Clark St & Schiller St  Subscriber   \n",
       "\n",
       "     Gender  Birth Year  Month day_of_week  \n",
       "48     Male      1990.0      5      Sunday  \n",
       "59   Female      1987.0      5      Sunday  \n",
       "156    Male      1970.0      5      Sunday  \n",
       "159    Male      1966.0      5      Sunday  \n",
       "241  Female      1985.0      5      Sunday  "
      ]
     },
     "execution_count": 85,
     "metadata": {},
     "output_type": "execute_result"
    }
   ],
   "source": [
    "if day != 'all':\n",
    "    df = df.loc[df['day_of_week'] == day.title()]\n",
    "df.head()"
   ]
  },
  {
   "cell_type": "code",
   "execution_count": 86,
   "id": "19214052",
   "metadata": {},
   "outputs": [],
   "source": [
    "def load_data(city, month, day):\n",
    "    \"\"\"\n",
    "    Loads data for the specified city and filters by month and day if applicable.\n",
    "\n",
    "    Args:\n",
    "        (str) city - name of the city to analyze\n",
    "        (str) month - name of the month to filter by, or \"all\" to apply no month filter\n",
    "        (str) day - name of the day of week to filter by, or \"all\" to apply no day filter\n",
    "    Returns:\n",
    "        df - Pandas DataFrame containing city data filtered by month and day\n",
    "    \"\"\"\n",
    "    df = pd.read_csv(CITY_DATA[city])\n",
    "    df['Start Time'] = pd.to_datetime(df['Start Time'])\n",
    "    df['Month'] = df['Start Time'].dt.month\n",
    "    df['Week Day'] = df['Start Time'].dt.day_of_week \n",
    "    df['day_of_week'] = df['Start Time'].dt.day_name()\n",
    "    df['hour'] = df['Start Time'].dt.hour\n",
    "    if month != 'all':\n",
    "        month_list = ['january', 'february', 'march', 'april', 'may', 'june', 'july', 'august', 'september', 'october', 'november', 'december' ]\n",
    "        month = month_list.index(month) + 1\n",
    "        df = df.loc[df['Month'] == month]\n",
    "    if day != 'all':\n",
    "        df = df.loc[df['day_of_week'] == day.title()]\n",
    "\n",
    "\n",
    "    return df"
   ]
  },
  {
   "cell_type": "code",
   "execution_count": 87,
   "id": "93dc0eaf",
   "metadata": {},
   "outputs": [
    {
     "name": "stdout",
     "output_type": "stream",
     "text": [
      "0    5\n",
      "dtype: int64\n"
     ]
    }
   ],
   "source": [
    "most_common_month = df['Month'].mode()\n",
    "print(most_common_month)"
   ]
  },
  {
   "cell_type": "code",
   "execution_count": 88,
   "id": "492a279f",
   "metadata": {},
   "outputs": [
    {
     "name": "stdout",
     "output_type": "stream",
     "text": [
      "0    Sunday\n",
      "dtype: object\n"
     ]
    }
   ],
   "source": [
    "most_common_WeekDay = df['day_of_week'].mode()\n",
    "print(most_common_WeekDay)"
   ]
  },
  {
   "cell_type": "code",
   "execution_count": 90,
   "id": "925d34de",
   "metadata": {},
   "outputs": [
    {
     "name": "stdout",
     "output_type": "stream",
     "text": [
      "0    12\n",
      "dtype: int64\n"
     ]
    }
   ],
   "source": [
    "df['hour'] = df['Start Time'].dt.hour\n",
    "most_common_hour = df['hour'].mode()\n",
    "print(most_common_hour)"
   ]
  },
  {
   "cell_type": "code",
   "execution_count": 91,
   "id": "b3879b81",
   "metadata": {},
   "outputs": [],
   "source": [
    "def time_stats(df):\n",
    "    \"\"\"Displays statistics on the most frequent times of travel.\"\"\"\n",
    "\n",
    "    print('\\nCalculating The Most Frequent Times of Travel...\\n')\n",
    "    start_time = time.time()\n",
    "\n",
    "    # display the most common month\n",
    "    most_common_month = df['Month'].mode()\n",
    "    print(most_common_month)\n",
    "\n",
    "    # display the most common day of week\n",
    "    most_common_WeekDay = df['day_of_week'].mode()\n",
    "    print(most_common_WeekDay)\n",
    "\n",
    "    # display the most common start hour\n",
    "    df['hour'] = df['Start Time'].dt.hour\n",
    "    most_common_hour = df['hour'].mode()\n",
    "    print(most_common_hour)\n",
    "\n",
    "    print(\"\\nThis took %s seconds.\" % (time.time() - start_time))\n",
    "    print('-'*40)"
   ]
  },
  {
   "cell_type": "code",
   "execution_count": 92,
   "id": "c872162a",
   "metadata": {},
   "outputs": [
    {
     "name": "stdout",
     "output_type": "stream",
     "text": [
      "0    Streeter Dr & Grand Ave\n",
      "dtype: object\n"
     ]
    }
   ],
   "source": [
    "most_common_start_station = df['Start Station'].mode()\n",
    "print(most_common_start_station)"
   ]
  },
  {
   "cell_type": "code",
   "execution_count": 97,
   "id": "028a5de8",
   "metadata": {},
   "outputs": [
    {
     "name": "stdout",
     "output_type": "stream",
     "text": [
      "0    Streeter Dr & Grand Ave\n",
      "dtype: object\n"
     ]
    }
   ],
   "source": [
    "most_common_end_station = df['End Station'].mode()\n",
    "print(most_common_end_)"
   ]
  },
  {
   "cell_type": "code",
   "execution_count": 98,
   "id": "2e2cf2e6",
   "metadata": {},
   "outputs": [
    {
     "name": "stdout",
     "output_type": "stream",
     "text": [
      "0    Lake Shore Dr & Monroe St-Streeter Dr & Grand Ave\n",
      "dtype: object\n"
     ]
    }
   ],
   "source": [
    "df['Start-End'] = df['Start Station'] + \"-\" + df['End Station']\n",
    "common_start_end_station = df['Start-End'].mode()\n",
    "print(common_start_end_station)"
   ]
  },
  {
   "cell_type": "code",
   "execution_count": 99,
   "id": "d40d1600",
   "metadata": {},
   "outputs": [
    {
     "data": {
      "text/html": [
       "<div>\n",
       "<style scoped>\n",
       "    .dataframe tbody tr th:only-of-type {\n",
       "        vertical-align: middle;\n",
       "    }\n",
       "\n",
       "    .dataframe tbody tr th {\n",
       "        vertical-align: top;\n",
       "    }\n",
       "\n",
       "    .dataframe thead th {\n",
       "        text-align: right;\n",
       "    }\n",
       "</style>\n",
       "<table border=\"1\" class=\"dataframe\">\n",
       "  <thead>\n",
       "    <tr style=\"text-align: right;\">\n",
       "      <th></th>\n",
       "      <th>Unnamed: 0</th>\n",
       "      <th>Start Time</th>\n",
       "      <th>End Time</th>\n",
       "      <th>Trip Duration</th>\n",
       "      <th>Start Station</th>\n",
       "      <th>End Station</th>\n",
       "      <th>User Type</th>\n",
       "      <th>Gender</th>\n",
       "      <th>Birth Year</th>\n",
       "      <th>Month</th>\n",
       "      <th>day_of_week</th>\n",
       "      <th>hour</th>\n",
       "      <th>Start-End</th>\n",
       "    </tr>\n",
       "  </thead>\n",
       "  <tbody>\n",
       "    <tr>\n",
       "      <th>48</th>\n",
       "      <td>906322</td>\n",
       "      <td>2017-05-21 10:03:55</td>\n",
       "      <td>2017-05-21 10:18:17</td>\n",
       "      <td>862</td>\n",
       "      <td>McClurg Ct &amp; Illinois St</td>\n",
       "      <td>McClurg Ct &amp; Illinois St</td>\n",
       "      <td>Subscriber</td>\n",
       "      <td>Male</td>\n",
       "      <td>1990.0</td>\n",
       "      <td>5</td>\n",
       "      <td>Sunday</td>\n",
       "      <td>10</td>\n",
       "      <td>McClurg Ct &amp; Illinois St-McClurg Ct &amp; Illinois St</td>\n",
       "    </tr>\n",
       "    <tr>\n",
       "      <th>59</th>\n",
       "      <td>750957</td>\n",
       "      <td>2017-05-07 11:14:27</td>\n",
       "      <td>2017-05-07 11:20:55</td>\n",
       "      <td>388</td>\n",
       "      <td>McClurg Ct &amp; Illinois St</td>\n",
       "      <td>Rush St &amp; Superior St</td>\n",
       "      <td>Subscriber</td>\n",
       "      <td>Female</td>\n",
       "      <td>1987.0</td>\n",
       "      <td>5</td>\n",
       "      <td>Sunday</td>\n",
       "      <td>11</td>\n",
       "      <td>McClurg Ct &amp; Illinois St-Rush St &amp; Superior St</td>\n",
       "    </tr>\n",
       "    <tr>\n",
       "      <th>156</th>\n",
       "      <td>994753</td>\n",
       "      <td>2017-05-28 17:34:53</td>\n",
       "      <td>2017-05-28 17:51:32</td>\n",
       "      <td>999</td>\n",
       "      <td>Halsted St &amp; Roscoe St</td>\n",
       "      <td>Broadway &amp; Ridge Ave</td>\n",
       "      <td>Subscriber</td>\n",
       "      <td>Male</td>\n",
       "      <td>1970.0</td>\n",
       "      <td>5</td>\n",
       "      <td>Sunday</td>\n",
       "      <td>17</td>\n",
       "      <td>Halsted St &amp; Roscoe St-Broadway &amp; Ridge Ave</td>\n",
       "    </tr>\n",
       "    <tr>\n",
       "      <th>159</th>\n",
       "      <td>823105</td>\n",
       "      <td>2017-05-14 07:14:56</td>\n",
       "      <td>2017-05-14 07:19:35</td>\n",
       "      <td>279</td>\n",
       "      <td>Greenwood Ave &amp; 47th St</td>\n",
       "      <td>Cottage Grove Ave &amp; 47th St</td>\n",
       "      <td>Subscriber</td>\n",
       "      <td>Male</td>\n",
       "      <td>1966.0</td>\n",
       "      <td>5</td>\n",
       "      <td>Sunday</td>\n",
       "      <td>7</td>\n",
       "      <td>Greenwood Ave &amp; 47th St-Cottage Grove Ave &amp; 47...</td>\n",
       "    </tr>\n",
       "    <tr>\n",
       "      <th>241</th>\n",
       "      <td>832285</td>\n",
       "      <td>2017-05-14 17:55:22</td>\n",
       "      <td>2017-05-14 18:14:10</td>\n",
       "      <td>1128</td>\n",
       "      <td>Green St &amp; Randolph St</td>\n",
       "      <td>Clark St &amp; Schiller St</td>\n",
       "      <td>Subscriber</td>\n",
       "      <td>Female</td>\n",
       "      <td>1985.0</td>\n",
       "      <td>5</td>\n",
       "      <td>Sunday</td>\n",
       "      <td>17</td>\n",
       "      <td>Green St &amp; Randolph St-Clark St &amp; Schiller St</td>\n",
       "    </tr>\n",
       "  </tbody>\n",
       "</table>\n",
       "</div>"
      ],
      "text/plain": [
       "     Unnamed: 0          Start Time             End Time  Trip Duration  \\\n",
       "48       906322 2017-05-21 10:03:55  2017-05-21 10:18:17            862   \n",
       "59       750957 2017-05-07 11:14:27  2017-05-07 11:20:55            388   \n",
       "156      994753 2017-05-28 17:34:53  2017-05-28 17:51:32            999   \n",
       "159      823105 2017-05-14 07:14:56  2017-05-14 07:19:35            279   \n",
       "241      832285 2017-05-14 17:55:22  2017-05-14 18:14:10           1128   \n",
       "\n",
       "                Start Station                  End Station   User Type  \\\n",
       "48   McClurg Ct & Illinois St     McClurg Ct & Illinois St  Subscriber   \n",
       "59   McClurg Ct & Illinois St        Rush St & Superior St  Subscriber   \n",
       "156    Halsted St & Roscoe St         Broadway & Ridge Ave  Subscriber   \n",
       "159   Greenwood Ave & 47th St  Cottage Grove Ave & 47th St  Subscriber   \n",
       "241    Green St & Randolph St       Clark St & Schiller St  Subscriber   \n",
       "\n",
       "     Gender  Birth Year  Month day_of_week  hour  \\\n",
       "48     Male      1990.0      5      Sunday    10   \n",
       "59   Female      1987.0      5      Sunday    11   \n",
       "156    Male      1970.0      5      Sunday    17   \n",
       "159    Male      1966.0      5      Sunday     7   \n",
       "241  Female      1985.0      5      Sunday    17   \n",
       "\n",
       "                                             Start-End  \n",
       "48   McClurg Ct & Illinois St-McClurg Ct & Illinois St  \n",
       "59      McClurg Ct & Illinois St-Rush St & Superior St  \n",
       "156        Halsted St & Roscoe St-Broadway & Ridge Ave  \n",
       "159  Greenwood Ave & 47th St-Cottage Grove Ave & 47...  \n",
       "241      Green St & Randolph St-Clark St & Schiller St  "
      ]
     },
     "execution_count": 99,
     "metadata": {},
     "output_type": "execute_result"
    }
   ],
   "source": [
    "df.head()"
   ]
  },
  {
   "cell_type": "code",
   "execution_count": 100,
   "id": "2a72bc0a",
   "metadata": {},
   "outputs": [],
   "source": [
    "def station_stats(df):\n",
    "    \"\"\"Displays statistics on the most popular stations and trip.\"\"\"\n",
    "\n",
    "    print('\\nCalculating The Most Popular Stations and Trip...\\n')\n",
    "    start_time = time.time()\n",
    "\n",
    "    # display most commonly used start station\n",
    "    most_common_start_station = df['Start Station'].mode()\n",
    "    print(most_common_start_station)\n",
    "\n",
    "    # display most commonly used end station\n",
    "    most_common_end_station = df['End Station'].mode()\n",
    "    print(most_common_end_)\n",
    "\n",
    "    # display most frequent combination of start station and end station trip\n",
    "    df['Start-End'] = df['Start Station'] + \"-\" + df['End Station']\n",
    "    common_start_end_station = df['Start-End'].mode()\n",
    "    print(common_start_end_station)\n",
    "\n",
    "    print(\"\\nThis took %s seconds.\" % (time.time() - start_time))\n",
    "    print('-'*40)"
   ]
  },
  {
   "cell_type": "code",
   "execution_count": 101,
   "id": "47bf3d8d",
   "metadata": {},
   "outputs": [
    {
     "name": "stdout",
     "output_type": "stream",
     "text": [
      "10795584\n"
     ]
    }
   ],
   "source": [
    "total_travel_time = df['Trip Duration'].sum()\n",
    "print(total_travel_time)"
   ]
  },
  {
   "cell_type": "code",
   "execution_count": 103,
   "id": "b4d847dd",
   "metadata": {},
   "outputs": [
    {
     "name": "stdout",
     "output_type": "stream",
     "text": [
      "1279.7041251778094\n"
     ]
    }
   ],
   "source": [
    "total_mean_time = df['Trip Duration'].mean()\n",
    "print(total_mean_time)"
   ]
  },
  {
   "cell_type": "code",
   "execution_count": 104,
   "id": "b07dae20",
   "metadata": {},
   "outputs": [],
   "source": [
    "def trip_duration_stats(df):\n",
    "    \"\"\"Displays statistics on the total and average trip duration.\"\"\"\n",
    "\n",
    "    print('\\nCalculating Trip Duration...\\n')\n",
    "    start_time = time.time()\n",
    "\n",
    "    # display total travel time\n",
    "    total_travel_time = df['Trip Duration'].sum()\n",
    "    print(total_travel_time)\n",
    "\n",
    "    # display mean travel time\n",
    "    total_travel_time = df['Trip Duration'].mean()\n",
    "    print(total_travel_time)\n",
    "\n",
    "\n",
    "    print(\"\\nThis took %s seconds.\" % (time.time() - start_time))\n",
    "    print('-'*40)"
   ]
  },
  {
   "cell_type": "code",
   "execution_count": 105,
   "id": "a46c99df",
   "metadata": {},
   "outputs": [
    {
     "name": "stdout",
     "output_type": "stream",
     "text": [
      "Subscriber    4551\n",
      "Customer      3885\n",
      "Name: User Type, dtype: int64\n"
     ]
    }
   ],
   "source": [
    "user_type_counts = df['User Type'].value_counts()\n",
    "print(user_type_counts)"
   ]
  },
  {
   "cell_type": "code",
   "execution_count": 106,
   "id": "b64b3837",
   "metadata": {},
   "outputs": [
    {
     "name": "stdout",
     "output_type": "stream",
     "text": [
      "Male      3131\n",
      "Female    1419\n",
      "Name: Gender, dtype: int64\n"
     ]
    }
   ],
   "source": [
    "if 'Gender' in df.columns:\n",
    "    gender_counts = df['Gender'].value_counts()\n",
    "    print(gender_counts)\n",
    "else:\n",
    "    print('The data is not available for gender')"
   ]
  },
  {
   "cell_type": "code",
   "execution_count": 107,
   "id": "d01f0bfb",
   "metadata": {},
   "outputs": [
    {
     "name": "stdout",
     "output_type": "stream",
     "text": [
      "1901.0\n"
     ]
    }
   ],
   "source": [
    "if 'Birth Year' in df.columns:\n",
    "    earliest_year_of_birth = df['Birth Year'].min()\n",
    "    print(earliest_year_of_birth)\n",
    "else:\n",
    "    print('The data is not available for birth year')"
   ]
  },
  {
   "cell_type": "code",
   "execution_count": 108,
   "id": "9e375b51",
   "metadata": {},
   "outputs": [
    {
     "name": "stdout",
     "output_type": "stream",
     "text": [
      "2000.0\n"
     ]
    }
   ],
   "source": [
    "if 'Birth Year' in df.columns:\n",
    "    most_recent_year_of_birth = df['Birth Year'].max()\n",
    "    print(most_recent_year_of_birth)\n",
    "else:\n",
    "    print('The data is not available for birth year')"
   ]
  },
  {
   "cell_type": "code",
   "execution_count": 109,
   "id": "82f0403d",
   "metadata": {},
   "outputs": [
    {
     "name": "stdout",
     "output_type": "stream",
     "text": [
      "0    1992.0\n",
      "dtype: float64\n"
     ]
    }
   ],
   "source": [
    "if 'Birth Year' in df.columns:\n",
    "    most_common_year_of_birth = df['Birth Year'].mode()\n",
    "    print(most_common_year_of_birth)\n",
    "else:\n",
    "    print('The data is not available for birth year')"
   ]
  },
  {
   "cell_type": "code",
   "execution_count": 110,
   "id": "291dd32e",
   "metadata": {},
   "outputs": [],
   "source": [
    "\n",
    "def user_stats(df):\n",
    "    \"\"\"Displays statistics on bikeshare users.\"\"\"\n",
    "\n",
    "    print('\\nCalculating User Stats...\\n')\n",
    "    start_time = time.time()\n",
    "\n",
    "    # Display counts of user types\n",
    "    user_type_counts = df['User Type'].value_counts()\n",
    "    print(user_type_counts)\n",
    "\n",
    "\n",
    "    # Display counts of gender\n",
    "    if 'Gender' in df.columns:\n",
    "        gender_counts = df['Gender'].value_counts()\n",
    "        print(gender_counts)\n",
    "    else:\n",
    "        print('The data is not available for gender')\n",
    "    \n",
    "    \n",
    "    # Display earliest, most recent, and most common year of birth\n",
    "    if 'Birth Year' in df.columns:\n",
    "        earliest_year_of_birth = df['Birth Year'].min()\n",
    "        print(earliest_year_of_birth)\n",
    "        most_recent_year_of_birth = df['Birth Year'].max()\n",
    "        print(most_recent_year_of_birth)\n",
    "        most_common_year_of_birth = df['Birth Year'].mode()\n",
    "        print(most_common_year_of_birth)\n",
    "    else:\n",
    "        print('The data is not available for birth year')\n",
    "        \n",
    "    print(\"\\nThis took %s seconds.\" % (time.time() - start_time))\n",
    "    print('-'*40)\n",
    "\n"
   ]
  },
  {
   "cell_type": "code",
   "execution_count": 120,
   "id": "fe25bf36",
   "metadata": {},
   "outputs": [
    {
     "name": "stdout",
     "output_type": "stream",
     "text": [
      "\n",
      "Would you like to view five rows of individual trip data? Enter yes or no\n",
      "yes\n",
      "     Unnamed: 0          Start Time             End Time  Trip Duration  \\\n",
      "48       906322 2017-05-21 10:03:55  2017-05-21 10:18:17            862   \n",
      "59       750957 2017-05-07 11:14:27  2017-05-07 11:20:55            388   \n",
      "156      994753 2017-05-28 17:34:53  2017-05-28 17:51:32            999   \n",
      "159      823105 2017-05-14 07:14:56  2017-05-14 07:19:35            279   \n",
      "241      832285 2017-05-14 17:55:22  2017-05-14 18:14:10           1128   \n",
      "\n",
      "                Start Station                  End Station   User Type  \\\n",
      "48   McClurg Ct & Illinois St     McClurg Ct & Illinois St  Subscriber   \n",
      "59   McClurg Ct & Illinois St        Rush St & Superior St  Subscriber   \n",
      "156    Halsted St & Roscoe St         Broadway & Ridge Ave  Subscriber   \n",
      "159   Greenwood Ave & 47th St  Cottage Grove Ave & 47th St  Subscriber   \n",
      "241    Green St & Randolph St       Clark St & Schiller St  Subscriber   \n",
      "\n",
      "     Gender  Birth Year  Month day_of_week  hour  \\\n",
      "48     Male      1990.0      5      Sunday    10   \n",
      "59   Female      1987.0      5      Sunday    11   \n",
      "156    Male      1970.0      5      Sunday    17   \n",
      "159    Male      1966.0      5      Sunday     7   \n",
      "241  Female      1985.0      5      Sunday    17   \n",
      "\n",
      "                                             Start-End  \n",
      "48   McClurg Ct & Illinois St-McClurg Ct & Illinois St  \n",
      "59      McClurg Ct & Illinois St-Rush St & Superior St  \n",
      "156        Halsted St & Roscoe St-Broadway & Ridge Ave  \n",
      "159  Greenwood Ave & 47th St-Cottage Grove Ave & 47...  \n",
      "241      Green St & Randolph St-Clark St & Schiller St  \n",
      "Would you like to continue?no\n"
     ]
    }
   ],
   "source": [
    "view_data = input('\\nWould you like to view five rows of individual trip data? Enter yes or no\\n')\n",
    "start_loc = 0\n",
    "while view_data =='yes':\n",
    "    print(df.iloc[start_loc:(start_loc+5)])\n",
    "    start_loc += 5\n",
    "    view_data = input(\"Would you like to continue?\").lower()"
   ]
  },
  {
   "cell_type": "code",
   "execution_count": 124,
   "id": "5c67d6eb",
   "metadata": {},
   "outputs": [],
   "source": [
    "def display_data(df):\n",
    "    display_data = input('\\nWould you like to view five rows of individual trip data? Enter yes or no\\n')\n",
    "    start_loc = 0\n",
    "    while display_data =='yes':\n",
    "        print(df.iloc[start_loc:(start_loc+5)])\n",
    "        start_loc += 5\n",
    "        display_data = input(\"Would you like to continue?\").lower()"
   ]
  }
 ],
 "metadata": {
  "kernelspec": {
   "display_name": "Python 3 (ipykernel)",
   "language": "python",
   "name": "python3"
  },
  "language_info": {
   "codemirror_mode": {
    "name": "ipython",
    "version": 3
   },
   "file_extension": ".py",
   "mimetype": "text/x-python",
   "name": "python",
   "nbconvert_exporter": "python",
   "pygments_lexer": "ipython3",
   "version": "3.9.7"
  }
 },
 "nbformat": 4,
 "nbformat_minor": 5
}
